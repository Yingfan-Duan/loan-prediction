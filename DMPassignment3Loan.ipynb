{
 "cells": [
  {
   "cell_type": "code",
   "execution_count": 1,
   "id": "b6911860-f698-4918-bd74-4b680719cfdb",
   "metadata": {},
   "outputs": [],
   "source": [
    "%matplotlib inline\n",
    "import numpy as np\n",
    "import pandas as pd\n",
    "from datetime import datetime\n",
    "\n",
    "import pickle\n",
    "import matplotlib.pyplot as plt\n",
    "import seaborn as sns\n",
    "from sklearn.model_selection import train_test_split\n",
    "from sklearn.preprocessing import StandardScaler\n",
    "from sklearn.model_selection import RepeatedStratifiedKFold, cross_val_score\n",
    "from sklearn.metrics import mean_squared_error\n",
    "\n",
    "# Importing regression Modules\n",
    "from sklearn.linear_model import LinearRegression\n",
    "from sklearn.ensemble import RandomForestRegressor\n",
    "import xgboost as xgb"
   ]
  },
  {
   "cell_type": "code",
   "execution_count": 2,
   "id": "89f3bfe5-31e8-44fe-80d2-ef208a850632",
   "metadata": {},
   "outputs": [],
   "source": [
    "import warnings\n",
    "warnings.filterwarnings(\"ignore\")"
   ]
  },
  {
   "cell_type": "markdown",
   "id": "5cb60bcb-b4d5-45c2-9ee3-c20dcc584cc4",
   "metadata": {},
   "source": [
    "## Step 1:\n",
    "Preprocess the data. Selection/generation/ transformation of categorical variables, useful variables etc all your discretion."
   ]
  },
  {
   "cell_type": "code",
   "execution_count": 3,
   "id": "a1b2c6a7-79b2-4b78-86bd-336f947b05ab",
   "metadata": {},
   "outputs": [],
   "source": [
    "train = pd.read_csv('Data for Cleaning & Modeling.csv')\n",
    "\n",
    "test = pd.read_csv('Holdout for Testing.csv')"
   ]
  },
  {
   "cell_type": "code",
   "execution_count": 4,
   "id": "01df86b2-200a-4984-8492-ac8ce04a9541",
   "metadata": {},
   "outputs": [
    {
     "data": {
      "text/html": [
       "<div>\n",
       "<style scoped>\n",
       "    .dataframe tbody tr th:only-of-type {\n",
       "        vertical-align: middle;\n",
       "    }\n",
       "\n",
       "    .dataframe tbody tr th {\n",
       "        vertical-align: top;\n",
       "    }\n",
       "\n",
       "    .dataframe thead th {\n",
       "        text-align: right;\n",
       "    }\n",
       "</style>\n",
       "<table border=\"1\" class=\"dataframe\">\n",
       "  <thead>\n",
       "    <tr style=\"text-align: right;\">\n",
       "      <th></th>\n",
       "      <th>X1</th>\n",
       "      <th>X2</th>\n",
       "      <th>X3</th>\n",
       "      <th>X4</th>\n",
       "      <th>X5</th>\n",
       "      <th>X6</th>\n",
       "      <th>X7</th>\n",
       "      <th>X8</th>\n",
       "      <th>X9</th>\n",
       "      <th>X10</th>\n",
       "      <th>...</th>\n",
       "      <th>X23</th>\n",
       "      <th>X24</th>\n",
       "      <th>X25</th>\n",
       "      <th>X26</th>\n",
       "      <th>X27</th>\n",
       "      <th>X28</th>\n",
       "      <th>X29</th>\n",
       "      <th>X30</th>\n",
       "      <th>X31</th>\n",
       "      <th>X32</th>\n",
       "    </tr>\n",
       "  </thead>\n",
       "  <tbody>\n",
       "    <tr>\n",
       "      <th>0</th>\n",
       "      <td>11.89%</td>\n",
       "      <td>54734.0</td>\n",
       "      <td>80364.0</td>\n",
       "      <td>$25,000</td>\n",
       "      <td>$25,000</td>\n",
       "      <td>$19,080</td>\n",
       "      <td>36 months</td>\n",
       "      <td>B</td>\n",
       "      <td>B4</td>\n",
       "      <td>NaN</td>\n",
       "      <td>...</td>\n",
       "      <td>Feb-94</td>\n",
       "      <td>0.0</td>\n",
       "      <td>NaN</td>\n",
       "      <td>NaN</td>\n",
       "      <td>10.0</td>\n",
       "      <td>0.0</td>\n",
       "      <td>28854.0</td>\n",
       "      <td>52.10%</td>\n",
       "      <td>42.0</td>\n",
       "      <td>f</td>\n",
       "    </tr>\n",
       "    <tr>\n",
       "      <th>1</th>\n",
       "      <td>10.71%</td>\n",
       "      <td>55742.0</td>\n",
       "      <td>114426.0</td>\n",
       "      <td>$7,000</td>\n",
       "      <td>$7,000</td>\n",
       "      <td>$673</td>\n",
       "      <td>36 months</td>\n",
       "      <td>B</td>\n",
       "      <td>B5</td>\n",
       "      <td>CNN</td>\n",
       "      <td>...</td>\n",
       "      <td>Oct-00</td>\n",
       "      <td>0.0</td>\n",
       "      <td>NaN</td>\n",
       "      <td>NaN</td>\n",
       "      <td>7.0</td>\n",
       "      <td>0.0</td>\n",
       "      <td>33623.0</td>\n",
       "      <td>76.70%</td>\n",
       "      <td>7.0</td>\n",
       "      <td>f</td>\n",
       "    </tr>\n",
       "    <tr>\n",
       "      <th>2</th>\n",
       "      <td>16.99%</td>\n",
       "      <td>57167.0</td>\n",
       "      <td>137225.0</td>\n",
       "      <td>$25,000</td>\n",
       "      <td>$25,000</td>\n",
       "      <td>$24,725</td>\n",
       "      <td>36 months</td>\n",
       "      <td>D</td>\n",
       "      <td>D3</td>\n",
       "      <td>Web Programmer</td>\n",
       "      <td>...</td>\n",
       "      <td>Jun-00</td>\n",
       "      <td>0.0</td>\n",
       "      <td>41.0</td>\n",
       "      <td>NaN</td>\n",
       "      <td>10.0</td>\n",
       "      <td>0.0</td>\n",
       "      <td>19878.0</td>\n",
       "      <td>66.30%</td>\n",
       "      <td>17.0</td>\n",
       "      <td>f</td>\n",
       "    </tr>\n",
       "    <tr>\n",
       "      <th>3</th>\n",
       "      <td>13.11%</td>\n",
       "      <td>57245.0</td>\n",
       "      <td>138150.0</td>\n",
       "      <td>$1,200</td>\n",
       "      <td>$1,200</td>\n",
       "      <td>$1,200</td>\n",
       "      <td>36 months</td>\n",
       "      <td>C</td>\n",
       "      <td>C2</td>\n",
       "      <td>city of beaumont texas</td>\n",
       "      <td>...</td>\n",
       "      <td>Jan-85</td>\n",
       "      <td>0.0</td>\n",
       "      <td>64.0</td>\n",
       "      <td>NaN</td>\n",
       "      <td>5.0</td>\n",
       "      <td>0.0</td>\n",
       "      <td>2584.0</td>\n",
       "      <td>40.40%</td>\n",
       "      <td>31.0</td>\n",
       "      <td>f</td>\n",
       "    </tr>\n",
       "    <tr>\n",
       "      <th>4</th>\n",
       "      <td>13.57%</td>\n",
       "      <td>57416.0</td>\n",
       "      <td>139635.0</td>\n",
       "      <td>$10,800</td>\n",
       "      <td>$10,800</td>\n",
       "      <td>$10,692</td>\n",
       "      <td>36 months</td>\n",
       "      <td>C</td>\n",
       "      <td>C3</td>\n",
       "      <td>State Farm Insurance</td>\n",
       "      <td>...</td>\n",
       "      <td>Dec-96</td>\n",
       "      <td>1.0</td>\n",
       "      <td>58.0</td>\n",
       "      <td>NaN</td>\n",
       "      <td>14.0</td>\n",
       "      <td>0.0</td>\n",
       "      <td>3511.0</td>\n",
       "      <td>25.60%</td>\n",
       "      <td>40.0</td>\n",
       "      <td>f</td>\n",
       "    </tr>\n",
       "  </tbody>\n",
       "</table>\n",
       "<p>5 rows × 32 columns</p>\n",
       "</div>"
      ],
      "text/plain": [
       "       X1       X2        X3       X4       X5       X6          X7 X8  X9  \\\n",
       "0  11.89%  54734.0   80364.0  $25,000  $25,000  $19,080   36 months  B  B4   \n",
       "1  10.71%  55742.0  114426.0   $7,000   $7,000     $673   36 months  B  B5   \n",
       "2  16.99%  57167.0  137225.0  $25,000  $25,000  $24,725   36 months  D  D3   \n",
       "3  13.11%  57245.0  138150.0   $1,200   $1,200   $1,200   36 months  C  C2   \n",
       "4  13.57%  57416.0  139635.0  $10,800  $10,800  $10,692   36 months  C  C3   \n",
       "\n",
       "                      X10  ...     X23  X24   X25 X26   X27  X28      X29  \\\n",
       "0                     NaN  ...  Feb-94  0.0   NaN NaN  10.0  0.0  28854.0   \n",
       "1                     CNN  ...  Oct-00  0.0   NaN NaN   7.0  0.0  33623.0   \n",
       "2          Web Programmer  ...  Jun-00  0.0  41.0 NaN  10.0  0.0  19878.0   \n",
       "3  city of beaumont texas  ...  Jan-85  0.0  64.0 NaN   5.0  0.0   2584.0   \n",
       "4    State Farm Insurance  ...  Dec-96  1.0  58.0 NaN  14.0  0.0   3511.0   \n",
       "\n",
       "      X30   X31 X32  \n",
       "0  52.10%  42.0   f  \n",
       "1  76.70%   7.0   f  \n",
       "2  66.30%  17.0   f  \n",
       "3  40.40%  31.0   f  \n",
       "4  25.60%  40.0   f  \n",
       "\n",
       "[5 rows x 32 columns]"
      ]
     },
     "execution_count": 4,
     "metadata": {},
     "output_type": "execute_result"
    }
   ],
   "source": [
    "train.head()"
   ]
  },
  {
   "cell_type": "code",
   "execution_count": 5,
   "id": "f69b5c01-1a85-4a5f-ac86-495d0a7fa5bc",
   "metadata": {},
   "outputs": [
    {
     "name": "stdout",
     "output_type": "stream",
     "text": [
      "<class 'pandas.core.frame.DataFrame'>\n",
      "RangeIndex: 400000 entries, 0 to 399999\n",
      "Data columns (total 32 columns):\n",
      " #   Column  Non-Null Count   Dtype  \n",
      "---  ------  --------------   -----  \n",
      " 0   X1      338990 non-null  object \n",
      " 1   X2      399999 non-null  float64\n",
      " 2   X3      399999 non-null  float64\n",
      " 3   X4      399999 non-null  object \n",
      " 4   X5      399999 non-null  object \n",
      " 5   X6      399999 non-null  object \n",
      " 6   X7      399999 non-null  object \n",
      " 7   X8      338730 non-null  object \n",
      " 8   X9      338730 non-null  object \n",
      " 9   X10     376014 non-null  object \n",
      " 10  X11     382462 non-null  object \n",
      " 11  X12     338639 non-null  object \n",
      " 12  X13     338972 non-null  float64\n",
      " 13  X14     399999 non-null  object \n",
      " 14  X15     399999 non-null  object \n",
      " 15  X16     123560 non-null  object \n",
      " 16  X17     399999 non-null  object \n",
      " 17  X18     399981 non-null  object \n",
      " 18  X19     399999 non-null  object \n",
      " 19  X20     399999 non-null  object \n",
      " 20  X21     399999 non-null  float64\n",
      " 21  X22     399999 non-null  float64\n",
      " 22  X23     399999 non-null  object \n",
      " 23  X24     399999 non-null  float64\n",
      " 24  X25     181198 non-null  float64\n",
      " 25  X26     51155 non-null   float64\n",
      " 26  X27     399999 non-null  float64\n",
      " 27  X28     399999 non-null  float64\n",
      " 28  X29     399999 non-null  float64\n",
      " 29  X30     399733 non-null  object \n",
      " 30  X31     399999 non-null  float64\n",
      " 31  X32     399999 non-null  object \n",
      "dtypes: float64(12), object(20)\n",
      "memory usage: 97.7+ MB\n"
     ]
    }
   ],
   "source": [
    "train.info()"
   ]
  },
  {
   "cell_type": "markdown",
   "id": "a69b1ff1-e26a-410e-b9b0-f16f6548e040",
   "metadata": {},
   "source": [
    "### Missing values"
   ]
  },
  {
   "cell_type": "code",
   "execution_count": 6,
   "id": "45673e63-e378-4675-a2d8-a10ce339d433",
   "metadata": {},
   "outputs": [
    {
     "data": {
      "text/plain": [
       "(400000, 32)"
      ]
     },
     "execution_count": 6,
     "metadata": {},
     "output_type": "execute_result"
    }
   ],
   "source": [
    "train.shape"
   ]
  },
  {
   "cell_type": "code",
   "execution_count": 7,
   "id": "7b24e212-3877-4a49-ab82-03ffd4af409e",
   "metadata": {},
   "outputs": [
    {
     "data": {
      "text/html": [
       "<div>\n",
       "<style scoped>\n",
       "    .dataframe tbody tr th:only-of-type {\n",
       "        vertical-align: middle;\n",
       "    }\n",
       "\n",
       "    .dataframe tbody tr th {\n",
       "        vertical-align: top;\n",
       "    }\n",
       "\n",
       "    .dataframe thead th {\n",
       "        text-align: right;\n",
       "    }\n",
       "</style>\n",
       "<table border=\"1\" class=\"dataframe\">\n",
       "  <thead>\n",
       "    <tr style=\"text-align: right;\">\n",
       "      <th></th>\n",
       "      <th>count</th>\n",
       "      <th>mean</th>\n",
       "      <th>std</th>\n",
       "      <th>min</th>\n",
       "      <th>25%</th>\n",
       "      <th>50%</th>\n",
       "      <th>75%</th>\n",
       "      <th>max</th>\n",
       "    </tr>\n",
       "  </thead>\n",
       "  <tbody>\n",
       "    <tr>\n",
       "      <th>X2</th>\n",
       "      <td>399999.0</td>\n",
       "      <td>9.984493e+06</td>\n",
       "      <td>7.928778e+06</td>\n",
       "      <td>54734.0</td>\n",
       "      <td>3151742.50</td>\n",
       "      <td>8234778.0</td>\n",
       "      <td>15329598.50</td>\n",
       "      <td>28753146.00</td>\n",
       "    </tr>\n",
       "    <tr>\n",
       "      <th>X3</th>\n",
       "      <td>399999.0</td>\n",
       "      <td>1.133899e+07</td>\n",
       "      <td>8.663918e+06</td>\n",
       "      <td>70699.0</td>\n",
       "      <td>3727711.50</td>\n",
       "      <td>9667699.0</td>\n",
       "      <td>17312191.50</td>\n",
       "      <td>31278050.00</td>\n",
       "    </tr>\n",
       "    <tr>\n",
       "      <th>X13</th>\n",
       "      <td>338972.0</td>\n",
       "      <td>7.316015e+04</td>\n",
       "      <td>5.586770e+04</td>\n",
       "      <td>3000.0</td>\n",
       "      <td>45000.00</td>\n",
       "      <td>63000.0</td>\n",
       "      <td>88200.00</td>\n",
       "      <td>7500000.00</td>\n",
       "    </tr>\n",
       "    <tr>\n",
       "      <th>X21</th>\n",
       "      <td>399999.0</td>\n",
       "      <td>1.700079e+01</td>\n",
       "      <td>7.704189e+00</td>\n",
       "      <td>0.0</td>\n",
       "      <td>11.25</td>\n",
       "      <td>16.7</td>\n",
       "      <td>22.52</td>\n",
       "      <td>39.99</td>\n",
       "    </tr>\n",
       "    <tr>\n",
       "      <th>X22</th>\n",
       "      <td>399999.0</td>\n",
       "      <td>2.745282e-01</td>\n",
       "      <td>7.782095e-01</td>\n",
       "      <td>0.0</td>\n",
       "      <td>0.00</td>\n",
       "      <td>0.0</td>\n",
       "      <td>0.00</td>\n",
       "      <td>29.00</td>\n",
       "    </tr>\n",
       "    <tr>\n",
       "      <th>X24</th>\n",
       "      <td>399999.0</td>\n",
       "      <td>8.171545e-01</td>\n",
       "      <td>1.058746e+00</td>\n",
       "      <td>0.0</td>\n",
       "      <td>0.00</td>\n",
       "      <td>0.0</td>\n",
       "      <td>1.00</td>\n",
       "      <td>8.00</td>\n",
       "    </tr>\n",
       "    <tr>\n",
       "      <th>X25</th>\n",
       "      <td>181198.0</td>\n",
       "      <td>3.431212e+01</td>\n",
       "      <td>2.178731e+01</td>\n",
       "      <td>0.0</td>\n",
       "      <td>16.00</td>\n",
       "      <td>31.0</td>\n",
       "      <td>50.00</td>\n",
       "      <td>188.00</td>\n",
       "    </tr>\n",
       "    <tr>\n",
       "      <th>X26</th>\n",
       "      <td>51155.0</td>\n",
       "      <td>7.632040e+01</td>\n",
       "      <td>2.980451e+01</td>\n",
       "      <td>0.0</td>\n",
       "      <td>54.00</td>\n",
       "      <td>80.0</td>\n",
       "      <td>103.00</td>\n",
       "      <td>129.00</td>\n",
       "    </tr>\n",
       "    <tr>\n",
       "      <th>X27</th>\n",
       "      <td>399999.0</td>\n",
       "      <td>1.111795e+01</td>\n",
       "      <td>4.898569e+00</td>\n",
       "      <td>0.0</td>\n",
       "      <td>8.00</td>\n",
       "      <td>10.0</td>\n",
       "      <td>14.00</td>\n",
       "      <td>76.00</td>\n",
       "    </tr>\n",
       "    <tr>\n",
       "      <th>X28</th>\n",
       "      <td>399999.0</td>\n",
       "      <td>1.522854e-01</td>\n",
       "      <td>4.973886e-01</td>\n",
       "      <td>0.0</td>\n",
       "      <td>0.00</td>\n",
       "      <td>0.0</td>\n",
       "      <td>0.00</td>\n",
       "      <td>63.00</td>\n",
       "    </tr>\n",
       "    <tr>\n",
       "      <th>X29</th>\n",
       "      <td>399999.0</td>\n",
       "      <td>1.595605e+04</td>\n",
       "      <td>1.952811e+04</td>\n",
       "      <td>0.0</td>\n",
       "      <td>6453.00</td>\n",
       "      <td>11778.0</td>\n",
       "      <td>20209.00</td>\n",
       "      <td>2568995.00</td>\n",
       "    </tr>\n",
       "    <tr>\n",
       "      <th>X31</th>\n",
       "      <td>399999.0</td>\n",
       "      <td>2.498301e+01</td>\n",
       "      <td>1.147348e+01</td>\n",
       "      <td>2.0</td>\n",
       "      <td>17.00</td>\n",
       "      <td>23.0</td>\n",
       "      <td>32.00</td>\n",
       "      <td>121.00</td>\n",
       "    </tr>\n",
       "  </tbody>\n",
       "</table>\n",
       "</div>"
      ],
      "text/plain": [
       "        count          mean           std      min         25%        50%  \\\n",
       "X2   399999.0  9.984493e+06  7.928778e+06  54734.0  3151742.50  8234778.0   \n",
       "X3   399999.0  1.133899e+07  8.663918e+06  70699.0  3727711.50  9667699.0   \n",
       "X13  338972.0  7.316015e+04  5.586770e+04   3000.0    45000.00    63000.0   \n",
       "X21  399999.0  1.700079e+01  7.704189e+00      0.0       11.25       16.7   \n",
       "X22  399999.0  2.745282e-01  7.782095e-01      0.0        0.00        0.0   \n",
       "X24  399999.0  8.171545e-01  1.058746e+00      0.0        0.00        0.0   \n",
       "X25  181198.0  3.431212e+01  2.178731e+01      0.0       16.00       31.0   \n",
       "X26   51155.0  7.632040e+01  2.980451e+01      0.0       54.00       80.0   \n",
       "X27  399999.0  1.111795e+01  4.898569e+00      0.0        8.00       10.0   \n",
       "X28  399999.0  1.522854e-01  4.973886e-01      0.0        0.00        0.0   \n",
       "X29  399999.0  1.595605e+04  1.952811e+04      0.0     6453.00    11778.0   \n",
       "X31  399999.0  2.498301e+01  1.147348e+01      2.0       17.00       23.0   \n",
       "\n",
       "             75%          max  \n",
       "X2   15329598.50  28753146.00  \n",
       "X3   17312191.50  31278050.00  \n",
       "X13     88200.00   7500000.00  \n",
       "X21        22.52        39.99  \n",
       "X22         0.00        29.00  \n",
       "X24         1.00         8.00  \n",
       "X25        50.00       188.00  \n",
       "X26       103.00       129.00  \n",
       "X27        14.00        76.00  \n",
       "X28         0.00        63.00  \n",
       "X29     20209.00   2568995.00  \n",
       "X31        32.00       121.00  "
      ]
     },
     "execution_count": 7,
     "metadata": {},
     "output_type": "execute_result"
    }
   ],
   "source": [
    "train.describe().T"
   ]
  },
  {
   "cell_type": "code",
   "execution_count": 8,
   "id": "bb1e6ed8-dee9-4051-8f72-cf273b9e4c41",
   "metadata": {},
   "outputs": [
    {
     "data": {
      "text/plain": [
       "X26    0.872112\n",
       "X16    0.691100\n",
       "X25    0.547005\n",
       "X12    0.153402\n",
       "X8     0.153175\n",
       "X9     0.153175\n",
       "X13    0.152570\n",
       "X1     0.152525\n",
       "X10    0.059965\n",
       "X11    0.043845\n",
       "X30    0.000668\n",
       "X18    0.000048\n",
       "X21    0.000003\n",
       "X27    0.000003\n",
       "X28    0.000003\n",
       "X29    0.000003\n",
       "X31    0.000003\n",
       "X24    0.000003\n",
       "X23    0.000003\n",
       "X22    0.000003\n",
       "X17    0.000003\n",
       "X20    0.000003\n",
       "X19    0.000003\n",
       "X2     0.000003\n",
       "X15    0.000003\n",
       "X14    0.000003\n",
       "X7     0.000003\n",
       "X6     0.000003\n",
       "X5     0.000003\n",
       "X4     0.000003\n",
       "X3     0.000003\n",
       "X32    0.000003\n",
       "dtype: float64"
      ]
     },
     "execution_count": 8,
     "metadata": {},
     "output_type": "execute_result"
    }
   ],
   "source": [
    "(train.isna().sum() / train.shape[0]).sort_values(ascending=False)"
   ]
  },
  {
   "cell_type": "markdown",
   "id": "9de277b2-c0c9-4f4a-a57c-ac6cf70d5001",
   "metadata": {},
   "source": [
    "- **X1** is target, drop rows in the train dataset without X1 first\n",
    "- **X16** is Reason for loan provided by borrower, missing over 69%, impossible to fill and litte value for prediction, drop this columns\n",
    "- **X26** is the number of months since borrower's last public record\n",
    "- **X25** is the number of months since last delinquency. These three variables are missing over half of their values in train dataset and also in test set. According to [this book](http://www.statisticalassociates.com/missingvaluesanalysis_p.pdf), imputation is not applicable when over 50% of data is missing, so we dropped these three columns"
   ]
  },
  {
   "cell_type": "code",
   "execution_count": 9,
   "id": "5c594d5d-7e5e-4813-88fb-5168a24a29c0",
   "metadata": {},
   "outputs": [],
   "source": [
    "train.dropna(subset=['X1'], inplace=True)\n",
    "train.drop(columns=['X26', 'X16', 'X25'], inplace=True)\n",
    "test.drop(columns=['X26', 'X16', 'X25'], inplace=True)"
   ]
  },
  {
   "cell_type": "code",
   "execution_count": 10,
   "id": "561c2db6-3b58-4e48-a2b3-cc7d01caf58d",
   "metadata": {},
   "outputs": [
    {
     "data": {
      "text/plain": [
       "X12    0.153279\n",
       "X8     0.153005\n",
       "X9     0.153005\n",
       "X13    0.152665\n",
       "X10    0.059757\n",
       "X11    0.043644\n",
       "X30    0.000664\n",
       "X18    0.000050\n",
       "X22    0.000003\n",
       "X23    0.000003\n",
       "X24    0.000003\n",
       "X15    0.000003\n",
       "X20    0.000003\n",
       "X27    0.000003\n",
       "X28    0.000003\n",
       "X29    0.000003\n",
       "X31    0.000003\n",
       "X21    0.000003\n",
       "X32    0.000003\n",
       "X19    0.000003\n",
       "X17    0.000003\n",
       "X2     0.000003\n",
       "X14    0.000003\n",
       "X7     0.000003\n",
       "X6     0.000003\n",
       "X5     0.000003\n",
       "X4     0.000003\n",
       "X3     0.000003\n",
       "X1     0.000000\n",
       "dtype: float64"
      ]
     },
     "execution_count": 10,
     "metadata": {},
     "output_type": "execute_result"
    }
   ],
   "source": [
    "(train.isna().sum() / train.shape[0]).sort_values(ascending=False)"
   ]
  },
  {
   "cell_type": "code",
   "execution_count": 11,
   "id": "048a6e6b-d707-4396-b5fe-7e42d699a99f",
   "metadata": {},
   "outputs": [
    {
     "data": {
      "text/plain": [
       "X1     1.000000\n",
       "X10    0.054925\n",
       "X11    0.054775\n",
       "X30    0.000375\n",
       "X18    0.000000\n",
       "X31    0.000000\n",
       "X29    0.000000\n",
       "X28    0.000000\n",
       "X27    0.000000\n",
       "X24    0.000000\n",
       "X23    0.000000\n",
       "X22    0.000000\n",
       "X21    0.000000\n",
       "X20    0.000000\n",
       "X19    0.000000\n",
       "X15    0.000000\n",
       "X17    0.000000\n",
       "X2     0.000000\n",
       "X14    0.000000\n",
       "X13    0.000000\n",
       "X12    0.000000\n",
       "X9     0.000000\n",
       "X8     0.000000\n",
       "X7     0.000000\n",
       "X6     0.000000\n",
       "X5     0.000000\n",
       "X4     0.000000\n",
       "X3     0.000000\n",
       "X32    0.000000\n",
       "dtype: float64"
      ]
     },
     "execution_count": 11,
     "metadata": {},
     "output_type": "execute_result"
    }
   ],
   "source": [
    "(test.isna().sum() / test.shape[0]).sort_values(ascending=False)"
   ]
  },
  {
   "cell_type": "markdown",
   "id": "fcd5f4b2-06c2-4ecc-b557-7683749e7208",
   "metadata": {},
   "source": [
    "Notice **X10, X11, X30** have missing values in test dataset, so we need to fill the missing values in these cols or don't use them as predictors. As for other columns, we can drop rows with missing values where missing rate is under 5%."
   ]
  },
  {
   "cell_type": "code",
   "execution_count": 12,
   "id": "970bf04e-1349-432c-b491-eef9c643414c",
   "metadata": {},
   "outputs": [],
   "source": [
    "train.dropna(subset=['X18', 'X22', 'X23', 'X24', 'X15', 'X20', 'X27', 'X28', 'X29', 'X31', \n",
    "                     'X21', 'X32', 'X19', 'X17', 'X2', 'X14', 'X7', 'X6', 'X5', 'X4', 'X3'], inplace=True)"
   ]
  },
  {
   "cell_type": "code",
   "execution_count": 13,
   "id": "a45cdea0-7350-45b7-be95-17452adf9e05",
   "metadata": {},
   "outputs": [
    {
     "data": {
      "text/plain": [
       "X12    0.153278\n",
       "X9     0.152997\n",
       "X8     0.152997\n",
       "X13    0.152670\n",
       "X10    0.059751\n",
       "X11    0.043641\n",
       "X30    0.000661\n",
       "X22    0.000000\n",
       "X23    0.000000\n",
       "X24    0.000000\n",
       "X1     0.000000\n",
       "X20    0.000000\n",
       "X27    0.000000\n",
       "X28    0.000000\n",
       "X29    0.000000\n",
       "X31    0.000000\n",
       "X21    0.000000\n",
       "X15    0.000000\n",
       "X19    0.000000\n",
       "X18    0.000000\n",
       "X17    0.000000\n",
       "X2     0.000000\n",
       "X14    0.000000\n",
       "X7     0.000000\n",
       "X6     0.000000\n",
       "X5     0.000000\n",
       "X4     0.000000\n",
       "X3     0.000000\n",
       "X32    0.000000\n",
       "dtype: float64"
      ]
     },
     "execution_count": 13,
     "metadata": {},
     "output_type": "execute_result"
    }
   ],
   "source": [
    "(train.isna().sum() / train.shape[0]).sort_values(ascending=False)"
   ]
  },
  {
   "cell_type": "markdown",
   "id": "105c0ded-292b-4baa-b1eb-a19789ca8e66",
   "metadata": {},
   "source": [
    "#### X13"
   ]
  },
  {
   "cell_type": "code",
   "execution_count": 14,
   "id": "4ff092c6-f22a-48d4-b728-f625eb7ef35d",
   "metadata": {},
   "outputs": [
    {
     "data": {
      "text/plain": [
       "<AxesSubplot:xlabel='X13', ylabel='Density'>"
      ]
     },
     "execution_count": 14,
     "metadata": {},
     "output_type": "execute_result"
    },
    {
     "data": {
      "image/png": "[encoded data removed]",
      "text/plain": [
       "<Figure size 432x288 with 1 Axes>"
      ]
     },
     "metadata": {
      "needs_background": "light"
     },
     "output_type": "display_data"
    }
   ],
   "source": [
    "sns.distplot(train['X13'])"
   ]
  },
  {
   "cell_type": "markdown",
   "id": "9429e850-015a-4099-b9b0-4ef3291ed02d",
   "metadata": {},
   "source": [
    "fill na in **X13** with median value"
   ]
  },
  {
   "cell_type": "code",
   "execution_count": 15,
   "id": "7cdf9fd3-0474-4f7a-b039-5ee160b716ff",
   "metadata": {},
   "outputs": [],
   "source": [
    "train['X13'].fillna(train['X13'].median(), inplace=True)"
   ]
  },
  {
   "cell_type": "code",
   "execution_count": 16,
   "id": "72d1fd33-12c6-4065-8818-dedf3549cdc3",
   "metadata": {},
   "outputs": [
    {
     "data": {
      "text/html": [
       "<div>\n",
       "<style scoped>\n",
       "    .dataframe tbody tr th:only-of-type {\n",
       "        vertical-align: middle;\n",
       "    }\n",
       "\n",
       "    .dataframe tbody tr th {\n",
       "        vertical-align: top;\n",
       "    }\n",
       "\n",
       "    .dataframe thead th {\n",
       "        text-align: right;\n",
       "    }\n",
       "</style>\n",
       "<table border=\"1\" class=\"dataframe\">\n",
       "  <thead>\n",
       "    <tr style=\"text-align: right;\">\n",
       "      <th></th>\n",
       "      <th>X1</th>\n",
       "      <th>X2</th>\n",
       "      <th>X3</th>\n",
       "      <th>X4</th>\n",
       "      <th>X5</th>\n",
       "      <th>X6</th>\n",
       "      <th>X7</th>\n",
       "      <th>X8</th>\n",
       "      <th>X9</th>\n",
       "      <th>X10</th>\n",
       "      <th>...</th>\n",
       "      <th>X21</th>\n",
       "      <th>X22</th>\n",
       "      <th>X23</th>\n",
       "      <th>X24</th>\n",
       "      <th>X27</th>\n",
       "      <th>X28</th>\n",
       "      <th>X29</th>\n",
       "      <th>X30</th>\n",
       "      <th>X31</th>\n",
       "      <th>X32</th>\n",
       "    </tr>\n",
       "  </thead>\n",
       "  <tbody>\n",
       "    <tr>\n",
       "      <th>0</th>\n",
       "      <td>11.89%</td>\n",
       "      <td>54734.0</td>\n",
       "      <td>80364.0</td>\n",
       "      <td>$25,000</td>\n",
       "      <td>$25,000</td>\n",
       "      <td>$19,080</td>\n",
       "      <td>36 months</td>\n",
       "      <td>B</td>\n",
       "      <td>B4</td>\n",
       "      <td>NaN</td>\n",
       "      <td>...</td>\n",
       "      <td>19.48</td>\n",
       "      <td>0.0</td>\n",
       "      <td>Feb-94</td>\n",
       "      <td>0.0</td>\n",
       "      <td>10.0</td>\n",
       "      <td>0.0</td>\n",
       "      <td>28854.0</td>\n",
       "      <td>52.10%</td>\n",
       "      <td>42.0</td>\n",
       "      <td>f</td>\n",
       "    </tr>\n",
       "    <tr>\n",
       "      <th>1</th>\n",
       "      <td>10.71%</td>\n",
       "      <td>55742.0</td>\n",
       "      <td>114426.0</td>\n",
       "      <td>$7,000</td>\n",
       "      <td>$7,000</td>\n",
       "      <td>$673</td>\n",
       "      <td>36 months</td>\n",
       "      <td>B</td>\n",
       "      <td>B5</td>\n",
       "      <td>CNN</td>\n",
       "      <td>...</td>\n",
       "      <td>14.29</td>\n",
       "      <td>0.0</td>\n",
       "      <td>Oct-00</td>\n",
       "      <td>0.0</td>\n",
       "      <td>7.0</td>\n",
       "      <td>0.0</td>\n",
       "      <td>33623.0</td>\n",
       "      <td>76.70%</td>\n",
       "      <td>7.0</td>\n",
       "      <td>f</td>\n",
       "    </tr>\n",
       "    <tr>\n",
       "      <th>2</th>\n",
       "      <td>16.99%</td>\n",
       "      <td>57167.0</td>\n",
       "      <td>137225.0</td>\n",
       "      <td>$25,000</td>\n",
       "      <td>$25,000</td>\n",
       "      <td>$24,725</td>\n",
       "      <td>36 months</td>\n",
       "      <td>D</td>\n",
       "      <td>D3</td>\n",
       "      <td>Web Programmer</td>\n",
       "      <td>...</td>\n",
       "      <td>10.50</td>\n",
       "      <td>0.0</td>\n",
       "      <td>Jun-00</td>\n",
       "      <td>0.0</td>\n",
       "      <td>10.0</td>\n",
       "      <td>0.0</td>\n",
       "      <td>19878.0</td>\n",
       "      <td>66.30%</td>\n",
       "      <td>17.0</td>\n",
       "      <td>f</td>\n",
       "    </tr>\n",
       "    <tr>\n",
       "      <th>3</th>\n",
       "      <td>13.11%</td>\n",
       "      <td>57245.0</td>\n",
       "      <td>138150.0</td>\n",
       "      <td>$1,200</td>\n",
       "      <td>$1,200</td>\n",
       "      <td>$1,200</td>\n",
       "      <td>36 months</td>\n",
       "      <td>C</td>\n",
       "      <td>C2</td>\n",
       "      <td>city of beaumont texas</td>\n",
       "      <td>...</td>\n",
       "      <td>5.47</td>\n",
       "      <td>0.0</td>\n",
       "      <td>Jan-85</td>\n",
       "      <td>0.0</td>\n",
       "      <td>5.0</td>\n",
       "      <td>0.0</td>\n",
       "      <td>2584.0</td>\n",
       "      <td>40.40%</td>\n",
       "      <td>31.0</td>\n",
       "      <td>f</td>\n",
       "    </tr>\n",
       "    <tr>\n",
       "      <th>4</th>\n",
       "      <td>13.57%</td>\n",
       "      <td>57416.0</td>\n",
       "      <td>139635.0</td>\n",
       "      <td>$10,800</td>\n",
       "      <td>$10,800</td>\n",
       "      <td>$10,692</td>\n",
       "      <td>36 months</td>\n",
       "      <td>C</td>\n",
       "      <td>C3</td>\n",
       "      <td>State Farm Insurance</td>\n",
       "      <td>...</td>\n",
       "      <td>11.63</td>\n",
       "      <td>0.0</td>\n",
       "      <td>Dec-96</td>\n",
       "      <td>1.0</td>\n",
       "      <td>14.0</td>\n",
       "      <td>0.0</td>\n",
       "      <td>3511.0</td>\n",
       "      <td>25.60%</td>\n",
       "      <td>40.0</td>\n",
       "      <td>f</td>\n",
       "    </tr>\n",
       "  </tbody>\n",
       "</table>\n",
       "<p>5 rows × 29 columns</p>\n",
       "</div>"
      ],
      "text/plain": [
       "       X1       X2        X3       X4       X5       X6          X7 X8  X9  \\\n",
       "0  11.89%  54734.0   80364.0  $25,000  $25,000  $19,080   36 months  B  B4   \n",
       "1  10.71%  55742.0  114426.0   $7,000   $7,000     $673   36 months  B  B5   \n",
       "2  16.99%  57167.0  137225.0  $25,000  $25,000  $24,725   36 months  D  D3   \n",
       "3  13.11%  57245.0  138150.0   $1,200   $1,200   $1,200   36 months  C  C2   \n",
       "4  13.57%  57416.0  139635.0  $10,800  $10,800  $10,692   36 months  C  C3   \n",
       "\n",
       "                      X10  ...    X21  X22     X23  X24   X27  X28      X29  \\\n",
       "0                     NaN  ...  19.48  0.0  Feb-94  0.0  10.0  0.0  28854.0   \n",
       "1                     CNN  ...  14.29  0.0  Oct-00  0.0   7.0  0.0  33623.0   \n",
       "2          Web Programmer  ...  10.50  0.0  Jun-00  0.0  10.0  0.0  19878.0   \n",
       "3  city of beaumont texas  ...   5.47  0.0  Jan-85  0.0   5.0  0.0   2584.0   \n",
       "4    State Farm Insurance  ...  11.63  0.0  Dec-96  1.0  14.0  0.0   3511.0   \n",
       "\n",
       "      X30   X31  X32  \n",
       "0  52.10%  42.0    f  \n",
       "1  76.70%   7.0    f  \n",
       "2  66.30%  17.0    f  \n",
       "3  40.40%  31.0    f  \n",
       "4  25.60%  40.0    f  \n",
       "\n",
       "[5 rows x 29 columns]"
      ]
     },
     "execution_count": 16,
     "metadata": {},
     "output_type": "execute_result"
    }
   ],
   "source": [
    "train.head()"
   ]
  },
  {
   "cell_type": "code",
   "execution_count": 17,
   "id": "a9099c87-d745-4269-9085-cfd47eeaafed",
   "metadata": {},
   "outputs": [],
   "source": [
    "# remove dollar sign in X4, X5, X6\n",
    "def remove_dollar_percentage(data):\n",
    "    data['X4'] = [int(str(x).replace('$', '').replace(',', '')) for x in data['X4']]\n",
    "    data['X5'] = [int(str(x).replace('$', '').replace(',', '')) for x in data['X5']]\n",
    "    data['X6'] = [int(str(x).replace('$', '').replace(',', '')) for x in data['X6']]\n",
    "    \n",
    "    data.loc[data['X30'].notnull(),'X30'] = [x.replace('%', '') for x in data[data['X30'].notnull()].X30]\n",
    "    data['X30'] = pd.to_numeric(data['X30'], errors='coerce')\n",
    "    return data"
   ]
  },
  {
   "cell_type": "code",
   "execution_count": 18,
   "id": "0a787145-eb9d-406a-9a3f-6b86bead7ec4",
   "metadata": {},
   "outputs": [],
   "source": [
    "train = remove_dollar_percentage(train)\n",
    "test = remove_dollar_percentage(test)"
   ]
  },
  {
   "cell_type": "markdown",
   "id": "7a2b9546-2ee4-431b-a959-4713427aef55",
   "metadata": {
    "tags": []
   },
   "source": [
    "#### X10: employer or job-title"
   ]
  },
  {
   "cell_type": "code",
   "execution_count": 19,
   "id": "096af088-8308-40e2-999d-85d789b09bfe",
   "metadata": {},
   "outputs": [
    {
     "data": {
      "text/plain": [
       "Teacher                              3602\n",
       "Manager                              2875\n",
       "Registered Nurse                     1537\n",
       "RN                                   1452\n",
       "Supervisor                           1286\n",
       "                                     ... \n",
       "HIlton Fort Worth                       1\n",
       "Imperial Structured Settlements         1\n",
       "Rural Telephone                         1\n",
       "J. C. Mattress                          1\n",
       "Senior Creative Designer/Ad Sales       1\n",
       "Name: X10, Length: 163388, dtype: int64"
      ]
     },
     "execution_count": 19,
     "metadata": {},
     "output_type": "execute_result"
    }
   ],
   "source": [
    "train['X10'].value_counts()"
   ]
  },
  {
   "cell_type": "markdown",
   "id": "ffa25d56-bc0e-4087-8640-9b3604d02191",
   "metadata": {},
   "source": [
    "too much levels in this column, hard to extract information, drop this column"
   ]
  },
  {
   "cell_type": "code",
   "execution_count": 20,
   "id": "93ff5125-3298-4072-816f-e00999bd3fac",
   "metadata": {},
   "outputs": [],
   "source": [
    "train.drop(columns = ['X10'], inplace=True)\n",
    "test.drop(columns = ['X10'], inplace=True)\n"
   ]
  },
  {
   "cell_type": "markdown",
   "id": "aa147876-2b93-46f9-afc3-1be4e0afbfd4",
   "metadata": {},
   "source": [
    "#### X18: Loan title, as provided by borrower"
   ]
  },
  {
   "cell_type": "code",
   "execution_count": 21,
   "id": "9c0d46b8-abe8-46a0-ae54-a7242db6c257",
   "metadata": {},
   "outputs": [
    {
     "data": {
      "text/plain": [
       "Debt consolidation                     105698\n",
       "Credit card refinancing                 40499\n",
       "Debt Consolidation                      13275\n",
       "Home improvement                         9888\n",
       "Other                                    8188\n",
       "                                        ...  \n",
       "classy beginning                            1\n",
       "Wedding and Bill Consolidation Loan         1\n",
       "four2one3years                              1\n",
       "thanks, household gods!                     1\n",
       "Credit CardConsolidation                    1\n",
       "Name: X18, Length: 53617, dtype: int64"
      ]
     },
     "execution_count": 21,
     "metadata": {},
     "output_type": "execute_result"
    }
   ],
   "source": [
    "train['X18'].value_counts()"
   ]
  },
  {
   "cell_type": "code",
   "execution_count": 22,
   "id": "6293448e-4c36-4d6a-92cf-0fa3f5aa5e2d",
   "metadata": {},
   "outputs": [],
   "source": [
    "train.drop(columns = ['X18'], inplace=True)\n",
    "test.drop(columns = ['X18'], inplace=True)"
   ]
  },
  {
   "cell_type": "markdown",
   "id": "5f8a0461-7fc8-43c8-b2dc-425ec2c39a25",
   "metadata": {},
   "source": [
    "#### X19: First 3 numbers of zip code"
   ]
  },
  {
   "cell_type": "code",
   "execution_count": 23,
   "id": "7a93fdad-1677-4b29-9bba-a094401dcfd7",
   "metadata": {},
   "outputs": [
    {
     "data": {
      "text/plain": [
       "945xx    3922\n",
       "750xx    3703\n",
       "112xx    3689\n",
       "606xx    3419\n",
       "100xx    3216\n",
       "         ... \n",
       "643xx       1\n",
       "528xx       1\n",
       "522xx       1\n",
       "663xx       1\n",
       "938xx       1\n",
       "Name: X19, Length: 874, dtype: int64"
      ]
     },
     "execution_count": 23,
     "metadata": {},
     "output_type": "execute_result"
    }
   ],
   "source": [
    "# clustering based on X4, X5, X6\n",
    "train['X19'].value_counts()"
   ]
  },
  {
   "cell_type": "code",
   "execution_count": 24,
   "id": "9d267748-4970-4042-ac06-3ee4d0b3491e",
   "metadata": {},
   "outputs": [],
   "source": [
    "train.drop(columns = ['X19'], inplace=True)\n",
    "test.drop(columns = ['X19'], inplace=True)"
   ]
  },
  {
   "cell_type": "markdown",
   "id": "c4bdb0cb-3b0a-45fd-9ff1-75adf3096f67",
   "metadata": {
    "tags": []
   },
   "source": [
    "#### X12: home status"
   ]
  },
  {
   "cell_type": "code",
   "execution_count": 25,
   "id": "3e9eb871-0c1d-492e-a0d2-410a9fa60286",
   "metadata": {},
   "outputs": [
    {
     "data": {
      "text/plain": [
       "MORTGAGE    145953\n",
       "RENT        115951\n",
       "OWN          24974\n",
       "OTHER          107\n",
       "NONE            30\n",
       "ANY              1\n",
       "Name: X12, dtype: int64"
      ]
     },
     "execution_count": 25,
     "metadata": {},
     "output_type": "execute_result"
    }
   ],
   "source": [
    "train['X12'].value_counts()"
   ]
  },
  {
   "cell_type": "code",
   "execution_count": 26,
   "id": "e3442fda-ed8a-43d7-bab6-d40e9c851d32",
   "metadata": {},
   "outputs": [],
   "source": [
    "# combine class \"OTHER\", \"NONE\", \"ANY\"\n",
    "train.loc[[x in [\"NONE\", \"ANY\"] for x in train.X12], 'X12'] = \"OTHER\""
   ]
  },
  {
   "cell_type": "code",
   "execution_count": 27,
   "id": "af4bd432-136f-497e-9e3c-8248cf596979",
   "metadata": {},
   "outputs": [
    {
     "data": {
      "text/plain": [
       "MORTGAGE    145953\n",
       "RENT        115951\n",
       "OWN          24974\n",
       "OTHER          138\n",
       "Name: X12, dtype: int64"
      ]
     },
     "execution_count": 27,
     "metadata": {},
     "output_type": "execute_result"
    }
   ],
   "source": [
    "train['X12'].value_counts()"
   ]
  },
  {
   "cell_type": "code",
   "execution_count": 28,
   "id": "40b79689-c131-4c70-81d7-cf07708efeac",
   "metadata": {},
   "outputs": [
    {
     "data": {
      "text/plain": [
       "array(['RENT', 'OWN', 'MORTGAGE', 'OTHER', nan], dtype=object)"
      ]
     },
     "execution_count": 28,
     "metadata": {},
     "output_type": "execute_result"
    }
   ],
   "source": [
    "train['X12'].unique()"
   ]
  },
  {
   "cell_type": "markdown",
   "id": "1236d691-5259-49a3-a656-fc78c69482b3",
   "metadata": {},
   "source": [
    "complete cases with MORTGAGE"
   ]
  },
  {
   "cell_type": "code",
   "execution_count": 29,
   "id": "0b18da46-e07b-4f20-b100-81b7fa22c9b6",
   "metadata": {},
   "outputs": [],
   "source": [
    "train['X12'].fillna('MORTGAGE', inplace=True)"
   ]
  },
  {
   "cell_type": "markdown",
   "id": "69bbdfe6-e573-435f-893b-9411b276d061",
   "metadata": {
    "tags": []
   },
   "source": [
    "#### X11: the number of years employed"
   ]
  },
  {
   "cell_type": "code",
   "execution_count": 30,
   "id": "a1dce707-c1eb-4e39-917f-5a983ae5dc04",
   "metadata": {},
   "outputs": [
    {
     "data": {
      "text/plain": [
       "array(['< 1 year', '1 year', '10+ years', '6 years', '9 years', '3 years',\n",
       "       '5 years', '2 years', '4 years', '8 years', '7 years', nan],\n",
       "      dtype=object)"
      ]
     },
     "execution_count": 30,
     "metadata": {},
     "output_type": "execute_result"
    }
   ],
   "source": [
    "train['X11'].unique()"
   ]
  },
  {
   "cell_type": "markdown",
   "id": "bb80894c-4a7a-4373-b94a-be644bb3cd59",
   "metadata": {},
   "source": [
    "complete cases with 10+ years"
   ]
  },
  {
   "cell_type": "code",
   "execution_count": 31,
   "id": "78168229-0564-4022-a649-8fd67c3dc071",
   "metadata": {},
   "outputs": [],
   "source": [
    "train['X11'].fillna('10+ years', inplace=True)\n",
    "test['X11'].fillna('10+ years', inplace=True)"
   ]
  },
  {
   "cell_type": "code",
   "execution_count": 32,
   "id": "de93a770-5c62-4adb-b854-16af45b98394",
   "metadata": {},
   "outputs": [
    {
     "data": {
      "text/plain": [
       "X1         0\n",
       "X2         0\n",
       "X3         0\n",
       "X4         0\n",
       "X5         0\n",
       "X6         0\n",
       "X7         0\n",
       "X8     51862\n",
       "X9     51862\n",
       "X11        0\n",
       "X12        0\n",
       "X13        0\n",
       "X14        0\n",
       "X15        0\n",
       "X17        0\n",
       "X20        0\n",
       "X21        0\n",
       "X22        0\n",
       "X23        0\n",
       "X24        0\n",
       "X27        0\n",
       "X28        0\n",
       "X29        0\n",
       "X30      224\n",
       "X31        0\n",
       "X32        0\n",
       "dtype: int64"
      ]
     },
     "execution_count": 32,
     "metadata": {},
     "output_type": "execute_result"
    }
   ],
   "source": [
    "train.isna().sum()"
   ]
  },
  {
   "cell_type": "markdown",
   "id": "a70b04db-5941-4c14-baf3-a46775e78a1f",
   "metadata": {},
   "source": [
    "#### X8, X9: loan grade and subgrade"
   ]
  },
  {
   "cell_type": "code",
   "execution_count": 33,
   "id": "4ce36f5c-27b7-4876-a2ff-d211b04a695a",
   "metadata": {},
   "outputs": [
    {
     "data": {
      "text/plain": [
       "B    86116\n",
       "C    76444\n",
       "D    46982\n",
       "A    45524\n",
       "E    21627\n",
       "F     8394\n",
       "G     2024\n",
       "Name: X8, dtype: int64"
      ]
     },
     "execution_count": 33,
     "metadata": {},
     "output_type": "execute_result"
    }
   ],
   "source": [
    "train['X8'].value_counts()"
   ]
  },
  {
   "cell_type": "code",
   "execution_count": 34,
   "id": "fdfb9cee-9318-43c5-8229-d3600ea4e029",
   "metadata": {},
   "outputs": [
    {
     "data": {
      "text/plain": [
       "array(['B4', 'B5', 'D3', 'C2', 'C3', 'D4', 'B3', 'C5', 'A5', 'D2', 'B1',\n",
       "       'C4', 'A4', 'A3', 'C1', 'E4', 'B2', 'A2', 'E2', 'E1', 'D1', 'F1',\n",
       "       'F2', 'A1', 'F3', 'E5', 'D5', nan, 'E3', 'F4', 'G5', 'F5', 'G1',\n",
       "       'G4', 'G3', 'G2'], dtype=object)"
      ]
     },
     "execution_count": 34,
     "metadata": {},
     "output_type": "execute_result"
    }
   ],
   "source": [
    "train['X9'].unique()"
   ]
  },
  {
   "cell_type": "markdown",
   "id": "73e6b22b-fdcd-4986-a523-9f1e19c88319",
   "metadata": {},
   "source": [
    "drop X9, fill missing value in X8 WITH B"
   ]
  },
  {
   "cell_type": "code",
   "execution_count": 35,
   "id": "2f1b4503-42fd-4789-ac0e-f0e051120d89",
   "metadata": {},
   "outputs": [],
   "source": [
    "train.drop(columns = ['X9'], inplace=True)\n",
    "test.drop(columns = ['X9'], inplace=True)\n",
    "train['X8'].fillna('B', inplace=True)"
   ]
  },
  {
   "cell_type": "markdown",
   "id": "7642f0b7-4093-4de2-bffd-741f5d6b745f",
   "metadata": {},
   "source": [
    "#### X30: Revolving line utilization rate, or the amount of credit the borrower is using relative to all available revolving credit."
   ]
  },
  {
   "cell_type": "code",
   "execution_count": 36,
   "id": "51febaba-5160-49a3-9b40-f7f68f55722b",
   "metadata": {},
   "outputs": [
    {
     "data": {
      "text/plain": [
       "<AxesSubplot:xlabel='X30', ylabel='Density'>"
      ]
     },
     "execution_count": 36,
     "metadata": {},
     "output_type": "execute_result"
    },
    {
     "data": {
      "image/png": "[encoded data removed]",
      "text/plain": [
       "<Figure size 432x288 with 1 Axes>"
      ]
     },
     "metadata": {
      "needs_background": "light"
     },
     "output_type": "display_data"
    }
   ],
   "source": [
    "sns.distplot(train[train['X30'].notnull()]['X30'])"
   ]
  },
  {
   "cell_type": "code",
   "execution_count": 37,
   "id": "2c08e3bb-bab4-469e-b361-eada7c8a6b27",
   "metadata": {},
   "outputs": [],
   "source": [
    "# fill with median\n",
    "train['X30'].fillna(train['X30'].median(), inplace=True)\n",
    "test['X30'].fillna(train['X30'].median(), inplace=True)"
   ]
  },
  {
   "cell_type": "code",
   "execution_count": 38,
   "id": "34b1426e-25a0-42e3-8143-eb2876a5f1b4",
   "metadata": {},
   "outputs": [
    {
     "name": "stdout",
     "output_type": "stream",
     "text": [
      "<class 'pandas.core.frame.DataFrame'>\n",
      "Int64Index: 338973 entries, 0 to 399999\n",
      "Data columns (total 25 columns):\n",
      " #   Column  Non-Null Count   Dtype  \n",
      "---  ------  --------------   -----  \n",
      " 0   X1      338973 non-null  object \n",
      " 1   X2      338973 non-null  float64\n",
      " 2   X3      338973 non-null  float64\n",
      " 3   X4      338973 non-null  int64  \n",
      " 4   X5      338973 non-null  int64  \n",
      " 5   X6      338973 non-null  int64  \n",
      " 6   X7      338973 non-null  object \n",
      " 7   X8      338973 non-null  object \n",
      " 8   X11     338973 non-null  object \n",
      " 9   X12     338973 non-null  object \n",
      " 10  X13     338973 non-null  float64\n",
      " 11  X14     338973 non-null  object \n",
      " 12  X15     338973 non-null  object \n",
      " 13  X17     338973 non-null  object \n",
      " 14  X20     338973 non-null  object \n",
      " 15  X21     338973 non-null  float64\n",
      " 16  X22     338973 non-null  float64\n",
      " 17  X23     338973 non-null  object \n",
      " 18  X24     338973 non-null  float64\n",
      " 19  X27     338973 non-null  float64\n",
      " 20  X28     338973 non-null  float64\n",
      " 21  X29     338973 non-null  float64\n",
      " 22  X30     338973 non-null  float64\n",
      " 23  X31     338973 non-null  float64\n",
      " 24  X32     338973 non-null  object \n",
      "dtypes: float64(11), int64(3), object(11)\n",
      "memory usage: 67.2+ MB\n"
     ]
    }
   ],
   "source": [
    "train.info()"
   ]
  },
  {
   "cell_type": "markdown",
   "id": "108f3e95-a5ab-44fb-9dcf-5dc773fca444",
   "metadata": {
    "tags": []
   },
   "source": [
    "### Data Manipulation"
   ]
  },
  {
   "cell_type": "markdown",
   "id": "90ce0af0-6ad0-4fca-ba58-f24b10edb3d2",
   "metadata": {},
   "source": [
    "#### Categorical vars"
   ]
  },
  {
   "cell_type": "code",
   "execution_count": 39,
   "id": "c8f00a10-a91d-4291-ba80-83254d4303ee",
   "metadata": {},
   "outputs": [
    {
     "data": {
      "text/plain": [
       "debt_consolidation    198218\n",
       "credit_card            75679\n",
       "home_improvement       19625\n",
       "other                  17152\n",
       "major_purchase          7311\n",
       "small_business          5357\n",
       "car                     4115\n",
       "medical                 3329\n",
       "moving                  2138\n",
       "wedding                 1934\n",
       "vacation                1848\n",
       "house                   1723\n",
       "educational              277\n",
       "renewable_energy         267\n",
       "Name: X17, dtype: int64"
      ]
     },
     "execution_count": 39,
     "metadata": {},
     "output_type": "execute_result"
    }
   ],
   "source": [
    "train['X17'].value_counts()"
   ]
  },
  {
   "cell_type": "markdown",
   "id": "5db0926d-34b6-4e1c-a2bf-062e272c2dc0",
   "metadata": {},
   "source": [
    "find the correlation between X17 and X1 to decide how to deal with this column"
   ]
  },
  {
   "cell_type": "code",
   "execution_count": 40,
   "id": "0989ed86-162e-435a-b6e4-c2b9bf52c3ac",
   "metadata": {},
   "outputs": [
    {
     "data": {
      "text/html": [
       "<div>\n",
       "<style scoped>\n",
       "    .dataframe tbody tr th:only-of-type {\n",
       "        vertical-align: middle;\n",
       "    }\n",
       "\n",
       "    .dataframe tbody tr th {\n",
       "        vertical-align: top;\n",
       "    }\n",
       "\n",
       "    .dataframe thead th {\n",
       "        text-align: right;\n",
       "    }\n",
       "</style>\n",
       "<table border=\"1\" class=\"dataframe\">\n",
       "  <thead>\n",
       "    <tr style=\"text-align: right;\">\n",
       "      <th></th>\n",
       "      <th>X1</th>\n",
       "      <th>X2</th>\n",
       "      <th>X3</th>\n",
       "      <th>X4</th>\n",
       "      <th>X5</th>\n",
       "      <th>X6</th>\n",
       "      <th>X7</th>\n",
       "      <th>X8</th>\n",
       "      <th>X11</th>\n",
       "      <th>X12</th>\n",
       "      <th>...</th>\n",
       "      <th>X21</th>\n",
       "      <th>X22</th>\n",
       "      <th>X23</th>\n",
       "      <th>X24</th>\n",
       "      <th>X27</th>\n",
       "      <th>X28</th>\n",
       "      <th>X29</th>\n",
       "      <th>X30</th>\n",
       "      <th>X31</th>\n",
       "      <th>X32</th>\n",
       "    </tr>\n",
       "  </thead>\n",
       "  <tbody>\n",
       "    <tr>\n",
       "      <th>0</th>\n",
       "      <td>11.89</td>\n",
       "      <td>54734.0</td>\n",
       "      <td>80364.0</td>\n",
       "      <td>25000</td>\n",
       "      <td>25000</td>\n",
       "      <td>19080</td>\n",
       "      <td>36 months</td>\n",
       "      <td>B</td>\n",
       "      <td>&lt; 1 year</td>\n",
       "      <td>RENT</td>\n",
       "      <td>...</td>\n",
       "      <td>19.48</td>\n",
       "      <td>0.0</td>\n",
       "      <td>Feb-94</td>\n",
       "      <td>0.0</td>\n",
       "      <td>10.0</td>\n",
       "      <td>0.0</td>\n",
       "      <td>28854.0</td>\n",
       "      <td>52.1</td>\n",
       "      <td>42.0</td>\n",
       "      <td>f</td>\n",
       "    </tr>\n",
       "    <tr>\n",
       "      <th>1</th>\n",
       "      <td>10.71</td>\n",
       "      <td>55742.0</td>\n",
       "      <td>114426.0</td>\n",
       "      <td>7000</td>\n",
       "      <td>7000</td>\n",
       "      <td>673</td>\n",
       "      <td>36 months</td>\n",
       "      <td>B</td>\n",
       "      <td>&lt; 1 year</td>\n",
       "      <td>RENT</td>\n",
       "      <td>...</td>\n",
       "      <td>14.29</td>\n",
       "      <td>0.0</td>\n",
       "      <td>Oct-00</td>\n",
       "      <td>0.0</td>\n",
       "      <td>7.0</td>\n",
       "      <td>0.0</td>\n",
       "      <td>33623.0</td>\n",
       "      <td>76.7</td>\n",
       "      <td>7.0</td>\n",
       "      <td>f</td>\n",
       "    </tr>\n",
       "    <tr>\n",
       "      <th>2</th>\n",
       "      <td>16.99</td>\n",
       "      <td>57167.0</td>\n",
       "      <td>137225.0</td>\n",
       "      <td>25000</td>\n",
       "      <td>25000</td>\n",
       "      <td>24725</td>\n",
       "      <td>36 months</td>\n",
       "      <td>D</td>\n",
       "      <td>1 year</td>\n",
       "      <td>RENT</td>\n",
       "      <td>...</td>\n",
       "      <td>10.50</td>\n",
       "      <td>0.0</td>\n",
       "      <td>Jun-00</td>\n",
       "      <td>0.0</td>\n",
       "      <td>10.0</td>\n",
       "      <td>0.0</td>\n",
       "      <td>19878.0</td>\n",
       "      <td>66.3</td>\n",
       "      <td>17.0</td>\n",
       "      <td>f</td>\n",
       "    </tr>\n",
       "    <tr>\n",
       "      <th>3</th>\n",
       "      <td>13.11</td>\n",
       "      <td>57245.0</td>\n",
       "      <td>138150.0</td>\n",
       "      <td>1200</td>\n",
       "      <td>1200</td>\n",
       "      <td>1200</td>\n",
       "      <td>36 months</td>\n",
       "      <td>C</td>\n",
       "      <td>10+ years</td>\n",
       "      <td>OWN</td>\n",
       "      <td>...</td>\n",
       "      <td>5.47</td>\n",
       "      <td>0.0</td>\n",
       "      <td>Jan-85</td>\n",
       "      <td>0.0</td>\n",
       "      <td>5.0</td>\n",
       "      <td>0.0</td>\n",
       "      <td>2584.0</td>\n",
       "      <td>40.4</td>\n",
       "      <td>31.0</td>\n",
       "      <td>f</td>\n",
       "    </tr>\n",
       "    <tr>\n",
       "      <th>4</th>\n",
       "      <td>13.57</td>\n",
       "      <td>57416.0</td>\n",
       "      <td>139635.0</td>\n",
       "      <td>10800</td>\n",
       "      <td>10800</td>\n",
       "      <td>10692</td>\n",
       "      <td>36 months</td>\n",
       "      <td>C</td>\n",
       "      <td>6 years</td>\n",
       "      <td>RENT</td>\n",
       "      <td>...</td>\n",
       "      <td>11.63</td>\n",
       "      <td>0.0</td>\n",
       "      <td>Dec-96</td>\n",
       "      <td>1.0</td>\n",
       "      <td>14.0</td>\n",
       "      <td>0.0</td>\n",
       "      <td>3511.0</td>\n",
       "      <td>25.6</td>\n",
       "      <td>40.0</td>\n",
       "      <td>f</td>\n",
       "    </tr>\n",
       "    <tr>\n",
       "      <th>...</th>\n",
       "      <td>...</td>\n",
       "      <td>...</td>\n",
       "      <td>...</td>\n",
       "      <td>...</td>\n",
       "      <td>...</td>\n",
       "      <td>...</td>\n",
       "      <td>...</td>\n",
       "      <td>...</td>\n",
       "      <td>...</td>\n",
       "      <td>...</td>\n",
       "      <td>...</td>\n",
       "      <td>...</td>\n",
       "      <td>...</td>\n",
       "      <td>...</td>\n",
       "      <td>...</td>\n",
       "      <td>...</td>\n",
       "      <td>...</td>\n",
       "      <td>...</td>\n",
       "      <td>...</td>\n",
       "      <td>...</td>\n",
       "      <td>...</td>\n",
       "    </tr>\n",
       "    <tr>\n",
       "      <th>399995</th>\n",
       "      <td>12.99</td>\n",
       "      <td>28753086.0</td>\n",
       "      <td>31226222.0</td>\n",
       "      <td>10000</td>\n",
       "      <td>10000</td>\n",
       "      <td>10000</td>\n",
       "      <td>60 months</td>\n",
       "      <td>C</td>\n",
       "      <td>8 years</td>\n",
       "      <td>RENT</td>\n",
       "      <td>...</td>\n",
       "      <td>21.51</td>\n",
       "      <td>0.0</td>\n",
       "      <td>Nov-03</td>\n",
       "      <td>0.0</td>\n",
       "      <td>9.0</td>\n",
       "      <td>0.0</td>\n",
       "      <td>10268.0</td>\n",
       "      <td>76.1</td>\n",
       "      <td>20.0</td>\n",
       "      <td>w</td>\n",
       "    </tr>\n",
       "    <tr>\n",
       "      <th>399996</th>\n",
       "      <td>16.29</td>\n",
       "      <td>28753097.0</td>\n",
       "      <td>31226234.0</td>\n",
       "      <td>13150</td>\n",
       "      <td>13150</td>\n",
       "      <td>13150</td>\n",
       "      <td>36 months</td>\n",
       "      <td>D</td>\n",
       "      <td>1 year</td>\n",
       "      <td>OWN</td>\n",
       "      <td>...</td>\n",
       "      <td>29.76</td>\n",
       "      <td>0.0</td>\n",
       "      <td>Oct-07</td>\n",
       "      <td>0.0</td>\n",
       "      <td>11.0</td>\n",
       "      <td>0.0</td>\n",
       "      <td>8931.0</td>\n",
       "      <td>37.8</td>\n",
       "      <td>21.0</td>\n",
       "      <td>f</td>\n",
       "    </tr>\n",
       "    <tr>\n",
       "      <th>399997</th>\n",
       "      <td>10.99</td>\n",
       "      <td>28753099.0</td>\n",
       "      <td>31226236.0</td>\n",
       "      <td>20000</td>\n",
       "      <td>20000</td>\n",
       "      <td>20000</td>\n",
       "      <td>60 months</td>\n",
       "      <td>B</td>\n",
       "      <td>1 year</td>\n",
       "      <td>MORTGAGE</td>\n",
       "      <td>...</td>\n",
       "      <td>24.13</td>\n",
       "      <td>0.0</td>\n",
       "      <td>Oct-04</td>\n",
       "      <td>0.0</td>\n",
       "      <td>14.0</td>\n",
       "      <td>0.0</td>\n",
       "      <td>28976.0</td>\n",
       "      <td>69.3</td>\n",
       "      <td>48.0</td>\n",
       "      <td>w</td>\n",
       "    </tr>\n",
       "    <tr>\n",
       "      <th>399998</th>\n",
       "      <td>17.57</td>\n",
       "      <td>28753118.0</td>\n",
       "      <td>31226256.0</td>\n",
       "      <td>18475</td>\n",
       "      <td>18475</td>\n",
       "      <td>18475</td>\n",
       "      <td>60 months</td>\n",
       "      <td>D</td>\n",
       "      <td>10+ years</td>\n",
       "      <td>OWN</td>\n",
       "      <td>...</td>\n",
       "      <td>31.43</td>\n",
       "      <td>0.0</td>\n",
       "      <td>Mar-94</td>\n",
       "      <td>0.0</td>\n",
       "      <td>19.0</td>\n",
       "      <td>0.0</td>\n",
       "      <td>11982.0</td>\n",
       "      <td>39.0</td>\n",
       "      <td>31.0</td>\n",
       "      <td>f</td>\n",
       "    </tr>\n",
       "    <tr>\n",
       "      <th>399999</th>\n",
       "      <td>13.35</td>\n",
       "      <td>28753146.0</td>\n",
       "      <td>31226285.0</td>\n",
       "      <td>16000</td>\n",
       "      <td>16000</td>\n",
       "      <td>16000</td>\n",
       "      <td>36 months</td>\n",
       "      <td>C</td>\n",
       "      <td>4 years</td>\n",
       "      <td>MORTGAGE</td>\n",
       "      <td>...</td>\n",
       "      <td>16.48</td>\n",
       "      <td>0.0</td>\n",
       "      <td>Sep-10</td>\n",
       "      <td>0.0</td>\n",
       "      <td>9.0</td>\n",
       "      <td>0.0</td>\n",
       "      <td>3864.0</td>\n",
       "      <td>53.7</td>\n",
       "      <td>12.0</td>\n",
       "      <td>f</td>\n",
       "    </tr>\n",
       "  </tbody>\n",
       "</table>\n",
       "<p>338973 rows × 25 columns</p>\n",
       "</div>"
      ],
      "text/plain": [
       "           X1          X2          X3     X4     X5     X6          X7 X8  \\\n",
       "0       11.89     54734.0     80364.0  25000  25000  19080   36 months  B   \n",
       "1       10.71     55742.0    114426.0   7000   7000    673   36 months  B   \n",
       "2       16.99     57167.0    137225.0  25000  25000  24725   36 months  D   \n",
       "3       13.11     57245.0    138150.0   1200   1200   1200   36 months  C   \n",
       "4       13.57     57416.0    139635.0  10800  10800  10692   36 months  C   \n",
       "...       ...         ...         ...    ...    ...    ...         ... ..   \n",
       "399995  12.99  28753086.0  31226222.0  10000  10000  10000   60 months  C   \n",
       "399996  16.29  28753097.0  31226234.0  13150  13150  13150   36 months  D   \n",
       "399997  10.99  28753099.0  31226236.0  20000  20000  20000   60 months  B   \n",
       "399998  17.57  28753118.0  31226256.0  18475  18475  18475   60 months  D   \n",
       "399999  13.35  28753146.0  31226285.0  16000  16000  16000   36 months  C   \n",
       "\n",
       "              X11       X12  ...    X21  X22     X23  X24   X27  X28      X29  \\\n",
       "0        < 1 year      RENT  ...  19.48  0.0  Feb-94  0.0  10.0  0.0  28854.0   \n",
       "1        < 1 year      RENT  ...  14.29  0.0  Oct-00  0.0   7.0  0.0  33623.0   \n",
       "2          1 year      RENT  ...  10.50  0.0  Jun-00  0.0  10.0  0.0  19878.0   \n",
       "3       10+ years       OWN  ...   5.47  0.0  Jan-85  0.0   5.0  0.0   2584.0   \n",
       "4         6 years      RENT  ...  11.63  0.0  Dec-96  1.0  14.0  0.0   3511.0   \n",
       "...           ...       ...  ...    ...  ...     ...  ...   ...  ...      ...   \n",
       "399995    8 years      RENT  ...  21.51  0.0  Nov-03  0.0   9.0  0.0  10268.0   \n",
       "399996     1 year       OWN  ...  29.76  0.0  Oct-07  0.0  11.0  0.0   8931.0   \n",
       "399997     1 year  MORTGAGE  ...  24.13  0.0  Oct-04  0.0  14.0  0.0  28976.0   \n",
       "399998  10+ years       OWN  ...  31.43  0.0  Mar-94  0.0  19.0  0.0  11982.0   \n",
       "399999    4 years  MORTGAGE  ...  16.48  0.0  Sep-10  0.0   9.0  0.0   3864.0   \n",
       "\n",
       "         X30   X31  X32  \n",
       "0       52.1  42.0    f  \n",
       "1       76.7   7.0    f  \n",
       "2       66.3  17.0    f  \n",
       "3       40.4  31.0    f  \n",
       "4       25.6  40.0    f  \n",
       "...      ...   ...  ...  \n",
       "399995  76.1  20.0    w  \n",
       "399996  37.8  21.0    f  \n",
       "399997  69.3  48.0    w  \n",
       "399998  39.0  31.0    f  \n",
       "399999  53.7  12.0    f  \n",
       "\n",
       "[338973 rows x 25 columns]"
      ]
     },
     "execution_count": 40,
     "metadata": {},
     "output_type": "execute_result"
    }
   ],
   "source": [
    "train.loc[train['X1'].notnull(),'X1'] = [x.replace('%', '') for x in train[train['X30'].notnull()].X1]\n",
    "train['X1'] = pd.to_numeric(train['X1'], errors='coerce')\n",
    "train"
   ]
  },
  {
   "cell_type": "code",
   "execution_count": 41,
   "id": "0620c6d3-301d-4432-a300-6512b3019de2",
   "metadata": {},
   "outputs": [
    {
     "data": {
      "image/png": "[encoded data removed]",
      "text/plain": [
       "<Figure size 432x288 with 1 Axes>"
      ]
     },
     "metadata": {
      "needs_background": "light"
     },
     "output_type": "display_data"
    }
   ],
   "source": [
    "sns.boxplot(x=\"X17\", y=\"X1\",  data=train)\n",
    "sns.set(rc = {'figure.figsize':(15,8)})"
   ]
  },
  {
   "cell_type": "code",
   "execution_count": 42,
   "id": "dc3db0d2-5017-448d-9143-0227cda0987b",
   "metadata": {},
   "outputs": [
    {
     "data": {
      "text/plain": [
       "debt_consolidation    198218\n",
       "credit_card            75679\n",
       "home_improvement       19625\n",
       "other                  17152\n",
       "major_purchase          7311\n",
       "small_business          5357\n",
       "car                     4115\n",
       "medical                 3329\n",
       "moving                  2138\n",
       "wedding                 1934\n",
       "vacation                1848\n",
       "house                   1723\n",
       "educational              277\n",
       "renewable_energy         267\n",
       "Name: X17, dtype: int64"
      ]
     },
     "execution_count": 42,
     "metadata": {},
     "output_type": "execute_result"
    }
   ],
   "source": [
    "train.X17.value_counts()"
   ]
  },
  {
   "cell_type": "code",
   "execution_count": 43,
   "id": "9ab8fd0d-f03c-4248-9c7a-be7ea06f2d70",
   "metadata": {},
   "outputs": [
    {
     "data": {
      "text/plain": [
       "array(['debt_consolidation', 'credit_card', 'car', 'home_improvement',\n",
       "       'small_business', 'major_purchase', 'other', 'house', 'vacation',\n",
       "       'educational', 'moving', 'wedding', 'medical', 'renewable_energy'],\n",
       "      dtype=object)"
      ]
     },
     "execution_count": 43,
     "metadata": {},
     "output_type": "execute_result"
    }
   ],
   "source": [
    "train['X17'].unique()"
   ]
  },
  {
   "cell_type": "markdown",
   "id": "9943f4fb-a3d7-4603-a867-a523c9550a3b",
   "metadata": {},
   "source": [
    "education is obviously different from others.but only 277 lines in train dataset, So drop this columns"
   ]
  },
  {
   "cell_type": "code",
   "execution_count": 44,
   "id": "ce17593d-1059-4c8f-b231-3a29b8c4b43c",
   "metadata": {},
   "outputs": [],
   "source": [
    "train.drop(columns = ['X17'], inplace=True)\n",
    "test.drop(columns = ['X17'], inplace=True)"
   ]
  },
  {
   "cell_type": "code",
   "execution_count": 45,
   "id": "179725b9-9afe-4ff3-bbb3-79e76d2ad632",
   "metadata": {},
   "outputs": [
    {
     "name": "stdout",
     "output_type": "stream",
     "text": [
      "<class 'pandas.core.frame.DataFrame'>\n",
      "Int64Index: 338973 entries, 0 to 399999\n",
      "Data columns (total 24 columns):\n",
      " #   Column  Non-Null Count   Dtype  \n",
      "---  ------  --------------   -----  \n",
      " 0   X1      338973 non-null  float64\n",
      " 1   X2      338973 non-null  float64\n",
      " 2   X3      338973 non-null  float64\n",
      " 3   X4      338973 non-null  int64  \n",
      " 4   X5      338973 non-null  int64  \n",
      " 5   X6      338973 non-null  int64  \n",
      " 6   X7      338973 non-null  object \n",
      " 7   X8      338973 non-null  object \n",
      " 8   X11     338973 non-null  object \n",
      " 9   X12     338973 non-null  object \n",
      " 10  X13     338973 non-null  float64\n",
      " 11  X14     338973 non-null  object \n",
      " 12  X15     338973 non-null  object \n",
      " 13  X20     338973 non-null  object \n",
      " 14  X21     338973 non-null  float64\n",
      " 15  X22     338973 non-null  float64\n",
      " 16  X23     338973 non-null  object \n",
      " 17  X24     338973 non-null  float64\n",
      " 18  X27     338973 non-null  float64\n",
      " 19  X28     338973 non-null  float64\n",
      " 20  X29     338973 non-null  float64\n",
      " 21  X30     338973 non-null  float64\n",
      " 22  X31     338973 non-null  float64\n",
      " 23  X32     338973 non-null  object \n",
      "dtypes: float64(12), int64(3), object(9)\n",
      "memory usage: 72.7+ MB\n"
     ]
    }
   ],
   "source": [
    "train.info()"
   ]
  },
  {
   "cell_type": "code",
   "execution_count": 46,
   "id": "94595388-5b58-4bf8-ac15-ba0550b5a142",
   "metadata": {},
   "outputs": [
    {
     "data": {
      "image/png": "[encoded data removed]",
      "text/plain": [
       "<Figure size 1080x576 with 1 Axes>"
      ]
     },
     "metadata": {},
     "output_type": "display_data"
    }
   ],
   "source": [
    "sns.boxplot(x=\"X20\", y=\"X1\", data=train)\n",
    "sns.set(rc = {'figure.figsize':(15,8)})"
   ]
  },
  {
   "cell_type": "code",
   "execution_count": 47,
   "id": "ead3b187-8901-4b1b-8c17-4960fcc509d6",
   "metadata": {},
   "outputs": [
    {
     "data": {
      "text/plain": [
       "CA    52833\n",
       "NY    29224\n",
       "TX    26492\n",
       "FL    22754\n",
       "IL    13483\n",
       "NJ    13188\n",
       "PA    11877\n",
       "OH    11038\n",
       "GA    10851\n",
       "VA    10338\n",
       "NC     9303\n",
       "MI     8350\n",
       "MA     8038\n",
       "MD     8016\n",
       "AZ     7746\n",
       "WA     7706\n",
       "CO     7118\n",
       "MN     5864\n",
       "MO     5397\n",
       "CT     5242\n",
       "NV     4753\n",
       "IN     4608\n",
       "OR     4411\n",
       "WI     4245\n",
       "TN     4215\n",
       "AL     4188\n",
       "LA     4017\n",
       "SC     3979\n",
       "KY     3172\n",
       "KS     3096\n",
       "OK     3013\n",
       "AR     2532\n",
       "UT     2531\n",
       "NM     1848\n",
       "HI     1798\n",
       "WV     1738\n",
       "NH     1648\n",
       "RI     1486\n",
       "DC     1080\n",
       "MT      995\n",
       "AK      947\n",
       "DE      896\n",
       "WY      853\n",
       "SD      730\n",
       "MS      707\n",
       "VT      604\n",
       "ID        8\n",
       "IA        7\n",
       "NE        6\n",
       "ME        4\n",
       "Name: X20, dtype: int64"
      ]
     },
     "execution_count": 47,
     "metadata": {},
     "output_type": "execute_result"
    }
   ],
   "source": [
    "train['X20'].value_counts()"
   ]
  },
  {
   "cell_type": "markdown",
   "id": "5a5a495b-24c0-4b54-a8e4-39cea39b728f",
   "metadata": {},
   "source": [
    "The performance of state ME, IA, ID is different from others, but only have 4, 6, 7 rows respectively. So drop this column"
   ]
  },
  {
   "cell_type": "code",
   "execution_count": 48,
   "id": "362e251b-1a83-492c-939e-6bb0d6b308a8",
   "metadata": {},
   "outputs": [],
   "source": [
    "train.drop(columns=['X20'], inplace=True)\n",
    "test.drop(columns=['X20'], inplace=True)"
   ]
  },
  {
   "cell_type": "code",
   "execution_count": 49,
   "id": "12d4e1b6-6fca-4120-9761-a75112c1f14d",
   "metadata": {},
   "outputs": [
    {
     "name": "stdout",
     "output_type": "stream",
     "text": [
      "<class 'pandas.core.frame.DataFrame'>\n",
      "Int64Index: 338973 entries, 0 to 399999\n",
      "Data columns (total 23 columns):\n",
      " #   Column  Non-Null Count   Dtype  \n",
      "---  ------  --------------   -----  \n",
      " 0   X1      338973 non-null  float64\n",
      " 1   X2      338973 non-null  float64\n",
      " 2   X3      338973 non-null  float64\n",
      " 3   X4      338973 non-null  int64  \n",
      " 4   X5      338973 non-null  int64  \n",
      " 5   X6      338973 non-null  int64  \n",
      " 6   X7      338973 non-null  object \n",
      " 7   X8      338973 non-null  object \n",
      " 8   X11     338973 non-null  object \n",
      " 9   X12     338973 non-null  object \n",
      " 10  X13     338973 non-null  float64\n",
      " 11  X14     338973 non-null  object \n",
      " 12  X15     338973 non-null  object \n",
      " 13  X21     338973 non-null  float64\n",
      " 14  X22     338973 non-null  float64\n",
      " 15  X23     338973 non-null  object \n",
      " 16  X24     338973 non-null  float64\n",
      " 17  X27     338973 non-null  float64\n",
      " 18  X28     338973 non-null  float64\n",
      " 19  X29     338973 non-null  float64\n",
      " 20  X30     338973 non-null  float64\n",
      " 21  X31     338973 non-null  float64\n",
      " 22  X32     338973 non-null  object \n",
      "dtypes: float64(12), int64(3), object(8)\n",
      "memory usage: 70.1+ MB\n"
     ]
    }
   ],
   "source": [
    "train.info()"
   ]
  },
  {
   "cell_type": "code",
   "execution_count": 50,
   "id": "32f24502-e5df-4005-8ed9-7671ae400a09",
   "metadata": {},
   "outputs": [],
   "source": [
    "cat_list = ['X7','X8', 'X11', 'X12', 'X14', 'X32']\n",
    "train[cat_list] = train[cat_list].astype('category')\n",
    "test[cat_list] = test[cat_list].astype('category')"
   ]
  },
  {
   "cell_type": "markdown",
   "id": "8211ca8f-f6aa-4b42-90d9-320f11a787ee",
   "metadata": {},
   "source": [
    "#### date: x15, X23"
   ]
  },
  {
   "cell_type": "markdown",
   "id": "3b52ff33-159c-4b91-a5a3-52d910274651",
   "metadata": {},
   "source": [
    "- format \"Aug-68\" means 1968 Aug\n",
    "- format \"2-Aug\" means 2002 Aug"
   ]
  },
  {
   "cell_type": "code",
   "execution_count": 51,
   "id": "eb5d1a31-3afa-423c-b010-f317c9205065",
   "metadata": {},
   "outputs": [],
   "source": [
    "def extract_month_year(data):\n",
    "    data['year1'] = \"\"\n",
    "    data['month1'] = \"\"\n",
    "    data['year'] = \"\"\n",
    "    data['month'] = \"\"\n",
    "    # format Aug-68\n",
    "    filter_1 = [x.isnumeric() and int(x) > 12 for x in np.array([x.split('-') for x in data['X15']])[:,1]] \n",
    "    data['year'][filter_1] = ['19' + x[-2:] for x in data[filter_1]['X15']]\n",
    "    data['month'][filter_1] = [x[:3] for x in data[filter_1]['X15']]\n",
    "    \n",
    "    filter_1 = [x.isnumeric() and int(x) > 12 for x in np.array([x.split('-') for x in data['X23']])[:,1]] \n",
    "    data['year1'][filter_1] = ['19' + x[-2:] for x in data[filter_1]['X23']]\n",
    "    data['month1'][filter_1] = [x[:3] for x in data[filter_1]['X23']]\n",
    "    \n",
    "    # format Aug-11\n",
    "    filter_2 = [x.isnumeric() and int(x) <= 12 for x in np.array([x.split('-') for x in data['X15']])[:,1]]\n",
    "    data['year'][filter_2] = ['20' + x[-2:] for x in data[filter_2]['X15']]\n",
    "    data['month'][filter_2] = [x[:3] for x in data[filter_2]['X15']]\n",
    "    \n",
    "    filter_2 = [x.isnumeric() and int(x) <= 12 for x in np.array([x.split('-') for x in data['X23']])[:,1]]\n",
    "    data['year1'][filter_2] = ['20' + x[-2:] for x in data[filter_2]['X23']]\n",
    "    data['month1'][filter_2] = [x[:3] for x in data[filter_2]['X23']]\n",
    "    \n",
    "    # format 11-Aug\n",
    "    filter_3 = [x.isnumeric() and len(x) == 2 for x in np.array([x.split('-') for x in data['X15']])[:,0]]\n",
    "    data['year'][filter_3] = ['20' + x[:2] for x in data[filter_3]['X15']]\n",
    "    data['month'][filter_3] = [x[-3:] for x in data[filter_3]['X15']]\n",
    "    \n",
    "    filter_3 = [x.isnumeric() and len(x) == 2 for x in np.array([x.split('-') for x in data['X23']])[:,0]]\n",
    "    data['year1'][filter_3] = ['20' + x[:2] for x in data[filter_3]['X23']]\n",
    "    data['month1'][filter_3] = [x[-3:] for x in data[filter_3]['X23']]\n",
    "    \n",
    "    # format 1-Aug\n",
    "    filter_4 = [x.isnumeric() and len(x) == 1 for x in np.array([x.split('-') for x in data['X15']])[:,0]]\n",
    "    data['year'][filter_4] = ['200' + x[0] for x in data[filter_4]['X15']]\n",
    "    data['month'][filter_4] = [x[-3:] for x in data[filter_4]['X15']]\n",
    "    \n",
    "    filter_4 = [x.isnumeric() and len(x) == 1 for x in np.array([x.split('-') for x in data['X23']])[:,0]]\n",
    "    data['year1'][filter_4] = ['200' + x[0] for x in data[filter_4]['X23']]\n",
    "    data['month1'][filter_4] = [x[-3:] for x in data[filter_4]['X23']]\n",
    "    \n",
    "    return data"
   ]
  },
  {
   "cell_type": "code",
   "execution_count": 52,
   "id": "0bae61d6-3fea-49c7-8804-3604bfe6e275",
   "metadata": {},
   "outputs": [],
   "source": [
    "test = extract_month_year(test)\n",
    "train = extract_month_year(train)"
   ]
  },
  {
   "cell_type": "code",
   "execution_count": 53,
   "id": "576ecdf3-9788-461a-8b87-c4859ad4259b",
   "metadata": {},
   "outputs": [
    {
     "name": "stdout",
     "output_type": "stream",
     "text": [
      "<class 'pandas.core.frame.DataFrame'>\n",
      "Int64Index: 338973 entries, 0 to 399999\n",
      "Data columns (total 25 columns):\n",
      " #   Column  Non-Null Count   Dtype   \n",
      "---  ------  --------------   -----   \n",
      " 0   X1      338973 non-null  float64 \n",
      " 1   X2      338973 non-null  float64 \n",
      " 2   X3      338973 non-null  float64 \n",
      " 3   X4      338973 non-null  int64   \n",
      " 4   X5      338973 non-null  int64   \n",
      " 5   X6      338973 non-null  int64   \n",
      " 6   X7      338973 non-null  category\n",
      " 7   X8      338973 non-null  category\n",
      " 8   X11     338973 non-null  category\n",
      " 9   X12     338973 non-null  category\n",
      " 10  X13     338973 non-null  float64 \n",
      " 11  X14     338973 non-null  category\n",
      " 12  X21     338973 non-null  float64 \n",
      " 13  X22     338973 non-null  float64 \n",
      " 14  X24     338973 non-null  float64 \n",
      " 15  X27     338973 non-null  float64 \n",
      " 16  X28     338973 non-null  float64 \n",
      " 17  X29     338973 non-null  float64 \n",
      " 18  X30     338973 non-null  float64 \n",
      " 19  X31     338973 non-null  float64 \n",
      " 20  X32     338973 non-null  category\n",
      " 21  year1   338973 non-null  object  \n",
      " 22  month1  338973 non-null  object  \n",
      " 23  year    338973 non-null  object  \n",
      " 24  month   338973 non-null  object  \n",
      "dtypes: category(6), float64(12), int64(3), object(4)\n",
      "memory usage: 61.7+ MB\n"
     ]
    }
   ],
   "source": [
    "# drop X15 and X26\n",
    "train.drop(columns=['X15', 'X23'], inplace=True)\n",
    "test.drop(columns=['X15', 'X23'], inplace=True)\n",
    "train.info()"
   ]
  },
  {
   "cell_type": "code",
   "execution_count": 54,
   "id": "dcac70b1-0fab-4db0-9f94-cec3a98532eb",
   "metadata": {},
   "outputs": [],
   "source": [
    "# drop ID\n",
    "train.drop(columns=['X2', 'X3'], inplace=True)\n",
    "test.drop(columns=['X2', 'X3'], inplace=True)"
   ]
  },
  {
   "cell_type": "markdown",
   "id": "c411e028-51aa-40b4-a5a8-2630dd341ebc",
   "metadata": {},
   "source": [
    "### Correlation analysis"
   ]
  },
  {
   "cell_type": "markdown",
   "id": "29803d45-3ce0-4c4c-b144-ad682fe454ff",
   "metadata": {},
   "source": [
    "#### y vs Numerical"
   ]
  },
  {
   "cell_type": "code",
   "execution_count": 55,
   "id": "ea3e0c2e-0a8f-4211-9c8e-db6db4f8c99b",
   "metadata": {},
   "outputs": [
    {
     "data": {
      "image/png": "[encoded data removed]",
      "text/plain": [
       "<Figure size 1080x576 with 2 Axes>"
      ]
     },
     "metadata": {},
     "output_type": "display_data"
    }
   ],
   "source": [
    "corr = train.corr()\n",
    "ax = sns.heatmap(\n",
    "    corr, \n",
    "    vmin=-1, vmax=1, center=0,\n",
    "    cmap=sns.diverging_palette(20, 220, n=200),\n",
    "    square=True,\n",
    "    annot=True\n",
    ")\n",
    "ax.set_xticklabels(\n",
    "    ax.get_xticklabels(),\n",
    "    rotation=45,\n",
    "    horizontalalignment='right'\n",
    ");"
   ]
  },
  {
   "cell_type": "markdown",
   "id": "7007ab6f-3fb1-47d3-b441-f03094e8fb6e",
   "metadata": {},
   "source": [
    "**Findings:**\n",
    "- high correlation among X4, X5 and X6\n",
    "- correlation between X27 and X31\n",
    "- y is correlated with X4, X5, X6, X21, X24, X30"
   ]
  },
  {
   "cell_type": "markdown",
   "id": "59f7a973-7f0b-48bb-8de0-ef16936ba490",
   "metadata": {},
   "source": [
    "#### y vs Categorical"
   ]
  },
  {
   "cell_type": "code",
   "execution_count": 56,
   "id": "ca25097f-3994-4f62-9602-fa8a57aa2473",
   "metadata": {},
   "outputs": [
    {
     "data": {
      "text/plain": [
       "<AxesSubplot:xlabel='X7', ylabel='X1'>"
      ]
     },
     "execution_count": 56,
     "metadata": {},
     "output_type": "execute_result"
    },
    {
     "data": {
      "image/png": "[encoded data removed]",
      "text/plain": [
       "<Figure size 648x432 with 1 Axes>"
      ]
     },
     "metadata": {},
     "output_type": "display_data"
    }
   ],
   "source": [
    "sns.set(rc = {'figure.figsize':(9,6)})\n",
    "sns.boxplot(x=\"X7\", y=\"X1\", data=train)"
   ]
  },
  {
   "cell_type": "code",
   "execution_count": 57,
   "id": "c587ed1c-eac8-4cb2-ab1e-e4a7048c83bb",
   "metadata": {},
   "outputs": [
    {
     "data": {
      "text/plain": [
       "<AxesSubplot:xlabel='X8', ylabel='X1'>"
      ]
     },
     "execution_count": 57,
     "metadata": {},
     "output_type": "execute_result"
    },
    {
     "data": {
      "image/png": "[encoded data removed]",
      "text/plain": [
       "<Figure size 648x432 with 1 Axes>"
      ]
     },
     "metadata": {},
     "output_type": "display_data"
    }
   ],
   "source": [
    "sns.set(rc = {'figure.figsize':(9,6)})\n",
    "sns.boxplot(x=\"X8\", y=\"X1\", data=train)"
   ]
  },
  {
   "cell_type": "code",
   "execution_count": 58,
   "id": "3052b560-f1b2-4816-bdf7-db30e5e085b5",
   "metadata": {},
   "outputs": [
    {
     "data": {
      "text/plain": [
       "<AxesSubplot:xlabel='X11', ylabel='X1'>"
      ]
     },
     "execution_count": 58,
     "metadata": {},
     "output_type": "execute_result"
    },
    {
     "data": {
      "image/png": "[encoded data removed]",
      "text/plain": [
       "<Figure size 648x432 with 1 Axes>"
      ]
     },
     "metadata": {},
     "output_type": "display_data"
    }
   ],
   "source": [
    "sns.set(rc = {'figure.figsize':(9,6)})\n",
    "sns.boxplot(x=\"X11\", y=\"X1\", data=train)"
   ]
  },
  {
   "cell_type": "code",
   "execution_count": 59,
   "id": "72590cfa-c5f7-4f2e-aedd-13098d18b034",
   "metadata": {},
   "outputs": [
    {
     "data": {
      "text/plain": [
       "<AxesSubplot:xlabel='X12', ylabel='X1'>"
      ]
     },
     "execution_count": 59,
     "metadata": {},
     "output_type": "execute_result"
    },
    {
     "data": {
      "image/png": "[encoded data removed]",
      "text/plain": [
       "<Figure size 648x432 with 1 Axes>"
      ]
     },
     "metadata": {},
     "output_type": "display_data"
    }
   ],
   "source": [
    "sns.set(rc = {'figure.figsize':(9,6)})\n",
    "sns.boxplot(x=\"X12\", y=\"X1\", data=train)"
   ]
  },
  {
   "cell_type": "code",
   "execution_count": 60,
   "id": "089cee05-1e8f-48aa-9d1d-2950173725bb",
   "metadata": {},
   "outputs": [
    {
     "data": {
      "text/plain": [
       "<AxesSubplot:xlabel='X14', ylabel='X1'>"
      ]
     },
     "execution_count": 60,
     "metadata": {},
     "output_type": "execute_result"
    },
    {
     "data": {
      "image/png": "[encoded data removed]",
      "text/plain": [
       "<Figure size 648x432 with 1 Axes>"
      ]
     },
     "metadata": {},
     "output_type": "display_data"
    }
   ],
   "source": [
    "sns.set(rc = {'figure.figsize':(9,6)})\n",
    "sns.boxplot(x=\"X14\", y=\"X1\", data=train)"
   ]
  },
  {
   "cell_type": "code",
   "execution_count": 61,
   "id": "d52d8941-1926-489d-a885-34f43b61f15e",
   "metadata": {},
   "outputs": [
    {
     "data": {
      "text/plain": [
       "<AxesSubplot:xlabel='X32', ylabel='X1'>"
      ]
     },
     "execution_count": 61,
     "metadata": {},
     "output_type": "execute_result"
    },
    {
     "data": {
      "image/png": "[encoded data removed]",
      "text/plain": [
       "<Figure size 648x432 with 1 Axes>"
      ]
     },
     "metadata": {},
     "output_type": "display_data"
    }
   ],
   "source": [
    "sns.set(rc = {'figure.figsize':(9,6)})\n",
    "sns.boxplot(x=\"X32\", y=\"X1\", data=train)"
   ]
  },
  {
   "cell_type": "code",
   "execution_count": 62,
   "id": "91b8511a-d1dd-4d18-8ab6-d828b57c113d",
   "metadata": {},
   "outputs": [
    {
     "data": {
      "image/png": "[encoded data removed]",
      "text/plain": [
       "<Figure size 648x432 with 1 Axes>"
      ]
     },
     "metadata": {},
     "output_type": "display_data"
    }
   ],
   "source": [
    "sns.boxplot(x=\"month\", y=\"X1\", data=train)\n",
    "sns.set(rc = {'figure.figsize':(15,8)})"
   ]
  },
  {
   "cell_type": "code",
   "execution_count": 63,
   "id": "a1d0cf67-166d-418b-ac43-b75120b6773e",
   "metadata": {},
   "outputs": [
    {
     "data": {
      "image/png": "[encoded data removed]",
      "text/plain": [
       "<Figure size 1080x576 with 1 Axes>"
      ]
     },
     "metadata": {},
     "output_type": "display_data"
    }
   ],
   "source": [
    "sns.boxplot(x=\"month1\", y=\"X1\", data=train)\n",
    "sns.set(rc = {'figure.figsize':(15,8)})"
   ]
  },
  {
   "cell_type": "code",
   "execution_count": 64,
   "id": "3c4362a7-6f10-4931-ab18-8089be2a2942",
   "metadata": {},
   "outputs": [
    {
     "data": {
      "image/png": "[encoded data removed]",
      "text/plain": [
       "<Figure size 1080x576 with 1 Axes>"
      ]
     },
     "metadata": {},
     "output_type": "display_data"
    }
   ],
   "source": [
    "sns.boxplot(x=\"year\", y=\"X1\", data=train)\n",
    "sns.set(rc = {'figure.figsize':(15,8)})"
   ]
  },
  {
   "cell_type": "code",
   "execution_count": 65,
   "id": "ef017dda-571a-4b3d-9e36-71ff274cb6f0",
   "metadata": {},
   "outputs": [
    {
     "data": {
      "image/png": "[encoded data removed]",
      "text/plain": [
       "<Figure size 1080x576 with 1 Axes>"
      ]
     },
     "metadata": {},
     "output_type": "display_data"
    }
   ],
   "source": [
    "sns.boxplot(x=\"year1\", y=\"X1\", data=train)\n",
    "sns.set(rc = {'figure.figsize':(15,8)})"
   ]
  },
  {
   "cell_type": "markdown",
   "id": "e4f9e31b-89a1-49d3-8899-739246c5c6ba",
   "metadata": {},
   "source": [
    "**Findings:**\n",
    "- Obvious relationship with y: X7, X8, X14, year\n",
    "- trivial: X12, X32\n",
    "- no relationship: month1, year1, month"
   ]
  },
  {
   "cell_type": "code",
   "execution_count": 66,
   "id": "70d36d39-86a9-4c91-996e-ae4fe2b8fb18",
   "metadata": {},
   "outputs": [
    {
     "data": {
      "text/html": [
       "<div>\n",
       "<style scoped>\n",
       "    .dataframe tbody tr th:only-of-type {\n",
       "        vertical-align: middle;\n",
       "    }\n",
       "\n",
       "    .dataframe tbody tr th {\n",
       "        vertical-align: top;\n",
       "    }\n",
       "\n",
       "    .dataframe thead th {\n",
       "        text-align: right;\n",
       "    }\n",
       "</style>\n",
       "<table border=\"1\" class=\"dataframe\">\n",
       "  <thead>\n",
       "    <tr style=\"text-align: right;\">\n",
       "      <th></th>\n",
       "      <th>X1</th>\n",
       "      <th>X7</th>\n",
       "      <th>X8</th>\n",
       "      <th>X12</th>\n",
       "      <th>X14</th>\n",
       "      <th>X21</th>\n",
       "      <th>X24</th>\n",
       "      <th>X30</th>\n",
       "      <th>average456</th>\n",
       "    </tr>\n",
       "  </thead>\n",
       "  <tbody>\n",
       "    <tr>\n",
       "      <th>0</th>\n",
       "      <td>11.89</td>\n",
       "      <td>36 months</td>\n",
       "      <td>B</td>\n",
       "      <td>RENT</td>\n",
       "      <td>VERIFIED - income</td>\n",
       "      <td>19.48</td>\n",
       "      <td>0.0</td>\n",
       "      <td>52.1</td>\n",
       "      <td>23027.0</td>\n",
       "    </tr>\n",
       "    <tr>\n",
       "      <th>1</th>\n",
       "      <td>10.71</td>\n",
       "      <td>36 months</td>\n",
       "      <td>B</td>\n",
       "      <td>RENT</td>\n",
       "      <td>not verified</td>\n",
       "      <td>14.29</td>\n",
       "      <td>0.0</td>\n",
       "      <td>76.7</td>\n",
       "      <td>4891.0</td>\n",
       "    </tr>\n",
       "    <tr>\n",
       "      <th>2</th>\n",
       "      <td>16.99</td>\n",
       "      <td>36 months</td>\n",
       "      <td>D</td>\n",
       "      <td>RENT</td>\n",
       "      <td>VERIFIED - income</td>\n",
       "      <td>10.50</td>\n",
       "      <td>0.0</td>\n",
       "      <td>66.3</td>\n",
       "      <td>24908.0</td>\n",
       "    </tr>\n",
       "    <tr>\n",
       "      <th>3</th>\n",
       "      <td>13.11</td>\n",
       "      <td>36 months</td>\n",
       "      <td>C</td>\n",
       "      <td>OWN</td>\n",
       "      <td>not verified</td>\n",
       "      <td>5.47</td>\n",
       "      <td>0.0</td>\n",
       "      <td>40.4</td>\n",
       "      <td>1200.0</td>\n",
       "    </tr>\n",
       "    <tr>\n",
       "      <th>4</th>\n",
       "      <td>13.57</td>\n",
       "      <td>36 months</td>\n",
       "      <td>C</td>\n",
       "      <td>RENT</td>\n",
       "      <td>not verified</td>\n",
       "      <td>11.63</td>\n",
       "      <td>1.0</td>\n",
       "      <td>25.6</td>\n",
       "      <td>10764.0</td>\n",
       "    </tr>\n",
       "  </tbody>\n",
       "</table>\n",
       "</div>"
      ],
      "text/plain": [
       "      X1          X7 X8   X12                X14    X21  X24   X30  average456\n",
       "0  11.89   36 months  B  RENT  VERIFIED - income  19.48  0.0  52.1     23027.0\n",
       "1  10.71   36 months  B  RENT       not verified  14.29  0.0  76.7      4891.0\n",
       "2  16.99   36 months  D  RENT  VERIFIED - income  10.50  0.0  66.3     24908.0\n",
       "3  13.11   36 months  C   OWN       not verified   5.47  0.0  40.4      1200.0\n",
       "4  13.57   36 months  C  RENT       not verified  11.63  1.0  25.6     10764.0"
      ]
     },
     "execution_count": 66,
     "metadata": {},
     "output_type": "execute_result"
    }
   ],
   "source": [
    "# feature engineering\n",
    "## average of X4, X5 and X6\n",
    "## keep X21, X24, X30, X7, X8, X14, year, X12\n",
    "train['average456'] = round(train[['X4', 'X5', 'X6']].mean(axis=1))\n",
    "del_cols = ['X4', 'X5', 'X6', 'X13', 'X22', 'X27', 'X28', 'X29', 'X31', 'X11', 'X32', 'year1', 'month1', 'month', 'year']\n",
    "train.drop(columns = del_cols, inplace=True)\n",
    "train.head()"
   ]
  },
  {
   "cell_type": "code",
   "execution_count": 67,
   "id": "8ef924ba-7d47-44c3-912e-fbf9c438ba56",
   "metadata": {},
   "outputs": [
    {
     "data": {
      "text/html": [
       "<div>\n",
       "<style scoped>\n",
       "    .dataframe tbody tr th:only-of-type {\n",
       "        vertical-align: middle;\n",
       "    }\n",
       "\n",
       "    .dataframe tbody tr th {\n",
       "        vertical-align: top;\n",
       "    }\n",
       "\n",
       "    .dataframe thead th {\n",
       "        text-align: right;\n",
       "    }\n",
       "</style>\n",
       "<table border=\"1\" class=\"dataframe\">\n",
       "  <thead>\n",
       "    <tr style=\"text-align: right;\">\n",
       "      <th></th>\n",
       "      <th>X1</th>\n",
       "      <th>X7</th>\n",
       "      <th>X8</th>\n",
       "      <th>X12</th>\n",
       "      <th>X14</th>\n",
       "      <th>X21</th>\n",
       "      <th>X24</th>\n",
       "      <th>X30</th>\n",
       "      <th>average456</th>\n",
       "    </tr>\n",
       "  </thead>\n",
       "  <tbody>\n",
       "    <tr>\n",
       "      <th>0</th>\n",
       "      <td>NaN</td>\n",
       "      <td>36 months</td>\n",
       "      <td>C</td>\n",
       "      <td>MORTGAGE</td>\n",
       "      <td>VERIFIED - income</td>\n",
       "      <td>28.31</td>\n",
       "      <td>1</td>\n",
       "      <td>64.5</td>\n",
       "      <td>6000.0</td>\n",
       "    </tr>\n",
       "    <tr>\n",
       "      <th>1</th>\n",
       "      <td>NaN</td>\n",
       "      <td>36 months</td>\n",
       "      <td>A</td>\n",
       "      <td>RENT</td>\n",
       "      <td>VERIFIED - income</td>\n",
       "      <td>16.03</td>\n",
       "      <td>1</td>\n",
       "      <td>26.2</td>\n",
       "      <td>24000.0</td>\n",
       "    </tr>\n",
       "    <tr>\n",
       "      <th>2</th>\n",
       "      <td>NaN</td>\n",
       "      <td>36 months</td>\n",
       "      <td>C</td>\n",
       "      <td>MORTGAGE</td>\n",
       "      <td>VERIFIED - income</td>\n",
       "      <td>32.49</td>\n",
       "      <td>0</td>\n",
       "      <td>49.9</td>\n",
       "      <td>35000.0</td>\n",
       "    </tr>\n",
       "    <tr>\n",
       "      <th>3</th>\n",
       "      <td>NaN</td>\n",
       "      <td>60 months</td>\n",
       "      <td>D</td>\n",
       "      <td>RENT</td>\n",
       "      <td>VERIFIED - income source</td>\n",
       "      <td>32.96</td>\n",
       "      <td>1</td>\n",
       "      <td>43.8</td>\n",
       "      <td>10000.0</td>\n",
       "    </tr>\n",
       "    <tr>\n",
       "      <th>4</th>\n",
       "      <td>NaN</td>\n",
       "      <td>60 months</td>\n",
       "      <td>B</td>\n",
       "      <td>MORTGAGE</td>\n",
       "      <td>VERIFIED - income</td>\n",
       "      <td>31.03</td>\n",
       "      <td>0</td>\n",
       "      <td>41.3</td>\n",
       "      <td>24000.0</td>\n",
       "    </tr>\n",
       "  </tbody>\n",
       "</table>\n",
       "</div>"
      ],
      "text/plain": [
       "   X1          X7 X8       X12                       X14    X21  X24   X30  \\\n",
       "0 NaN   36 months  C  MORTGAGE         VERIFIED - income  28.31    1  64.5   \n",
       "1 NaN   36 months  A      RENT         VERIFIED - income  16.03    1  26.2   \n",
       "2 NaN   36 months  C  MORTGAGE         VERIFIED - income  32.49    0  49.9   \n",
       "3 NaN   60 months  D      RENT  VERIFIED - income source  32.96    1  43.8   \n",
       "4 NaN   60 months  B  MORTGAGE         VERIFIED - income  31.03    0  41.3   \n",
       "\n",
       "   average456  \n",
       "0      6000.0  \n",
       "1     24000.0  \n",
       "2     35000.0  \n",
       "3     10000.0  \n",
       "4     24000.0  "
      ]
     },
     "execution_count": 67,
     "metadata": {},
     "output_type": "execute_result"
    }
   ],
   "source": [
    "test['average456'] = round(test[['X4', 'X5', 'X6']].mean(axis=1))\n",
    "del_cols = ['X4', 'X5', 'X6', 'X13', 'X22', 'X27', 'X28', 'X29', 'X31', 'X11', 'X32', 'year1', 'month1', 'month', 'year']\n",
    "test.drop(columns = del_cols, inplace=True)\n",
    "test.head()"
   ]
  },
  {
   "cell_type": "markdown",
   "id": "aa164e5d-a4ea-46c9-95e3-c2eb46b31be6",
   "metadata": {
    "tags": []
   },
   "source": [
    "### Encoding"
   ]
  },
  {
   "cell_type": "markdown",
   "id": "1c540295-a460-44e3-88ae-d2bb52d770d9",
   "metadata": {},
   "source": [
    "#### Nominal"
   ]
  },
  {
   "cell_type": "code",
   "execution_count": 76,
   "id": "44b95b9d-ec7a-4270-b5dc-f7da132573d3",
   "metadata": {},
   "outputs": [
    {
     "data": {
      "text/plain": [
       "['RENT', 'OWN', 'MORTGAGE', 'OTHER']\n",
       "Categories (4, object): ['MORTGAGE', 'OTHER', 'OWN', 'RENT']"
      ]
     },
     "execution_count": 76,
     "metadata": {},
     "output_type": "execute_result"
    }
   ],
   "source": [
    "train['X12'].unique()"
   ]
  },
  {
   "cell_type": "code",
   "execution_count": 77,
   "id": "08dae585-6113-4636-919a-1950fe04683d",
   "metadata": {},
   "outputs": [],
   "source": [
    "test['X12'] = test['X12'].cat.add_categories('OTHER')"
   ]
  },
  {
   "cell_type": "code",
   "execution_count": 78,
   "id": "c6e76d6f-40c2-4d5c-a0a2-bc6ed077a0d2",
   "metadata": {},
   "outputs": [],
   "source": [
    "test['X12'].cat.reorder_categories(['MORTGAGE', 'OTHER', 'OWN', 'RENT'], inplace=True)"
   ]
  },
  {
   "cell_type": "code",
   "execution_count": 81,
   "id": "7e030b84-7a9b-4fec-9375-2a12865dfba9",
   "metadata": {},
   "outputs": [
    {
     "data": {
      "text/html": [
       "<div>\n",
       "<style scoped>\n",
       "    .dataframe tbody tr th:only-of-type {\n",
       "        vertical-align: middle;\n",
       "    }\n",
       "\n",
       "    .dataframe tbody tr th {\n",
       "        vertical-align: top;\n",
       "    }\n",
       "\n",
       "    .dataframe thead th {\n",
       "        text-align: right;\n",
       "    }\n",
       "</style>\n",
       "<table border=\"1\" class=\"dataframe\">\n",
       "  <thead>\n",
       "    <tr style=\"text-align: right;\">\n",
       "      <th></th>\n",
       "      <th>X1</th>\n",
       "      <th>X7</th>\n",
       "      <th>X8</th>\n",
       "      <th>X21</th>\n",
       "      <th>X24</th>\n",
       "      <th>X30</th>\n",
       "      <th>average456</th>\n",
       "      <th>X12_OTHER</th>\n",
       "      <th>X12_OWN</th>\n",
       "      <th>X12_RENT</th>\n",
       "      <th>X14_VERIFIED - income source</th>\n",
       "      <th>X14_not verified</th>\n",
       "    </tr>\n",
       "  </thead>\n",
       "  <tbody>\n",
       "    <tr>\n",
       "      <th>0</th>\n",
       "      <td>11.89</td>\n",
       "      <td>36 months</td>\n",
       "      <td>B</td>\n",
       "      <td>19.48</td>\n",
       "      <td>0.0</td>\n",
       "      <td>52.1</td>\n",
       "      <td>23027.0</td>\n",
       "      <td>0</td>\n",
       "      <td>0</td>\n",
       "      <td>1</td>\n",
       "      <td>0</td>\n",
       "      <td>0</td>\n",
       "    </tr>\n",
       "    <tr>\n",
       "      <th>1</th>\n",
       "      <td>10.71</td>\n",
       "      <td>36 months</td>\n",
       "      <td>B</td>\n",
       "      <td>14.29</td>\n",
       "      <td>0.0</td>\n",
       "      <td>76.7</td>\n",
       "      <td>4891.0</td>\n",
       "      <td>0</td>\n",
       "      <td>0</td>\n",
       "      <td>1</td>\n",
       "      <td>0</td>\n",
       "      <td>1</td>\n",
       "    </tr>\n",
       "    <tr>\n",
       "      <th>2</th>\n",
       "      <td>16.99</td>\n",
       "      <td>36 months</td>\n",
       "      <td>D</td>\n",
       "      <td>10.50</td>\n",
       "      <td>0.0</td>\n",
       "      <td>66.3</td>\n",
       "      <td>24908.0</td>\n",
       "      <td>0</td>\n",
       "      <td>0</td>\n",
       "      <td>1</td>\n",
       "      <td>0</td>\n",
       "      <td>0</td>\n",
       "    </tr>\n",
       "    <tr>\n",
       "      <th>3</th>\n",
       "      <td>13.11</td>\n",
       "      <td>36 months</td>\n",
       "      <td>C</td>\n",
       "      <td>5.47</td>\n",
       "      <td>0.0</td>\n",
       "      <td>40.4</td>\n",
       "      <td>1200.0</td>\n",
       "      <td>0</td>\n",
       "      <td>1</td>\n",
       "      <td>0</td>\n",
       "      <td>0</td>\n",
       "      <td>1</td>\n",
       "    </tr>\n",
       "    <tr>\n",
       "      <th>4</th>\n",
       "      <td>13.57</td>\n",
       "      <td>36 months</td>\n",
       "      <td>C</td>\n",
       "      <td>11.63</td>\n",
       "      <td>1.0</td>\n",
       "      <td>25.6</td>\n",
       "      <td>10764.0</td>\n",
       "      <td>0</td>\n",
       "      <td>0</td>\n",
       "      <td>1</td>\n",
       "      <td>0</td>\n",
       "      <td>1</td>\n",
       "    </tr>\n",
       "    <tr>\n",
       "      <th>...</th>\n",
       "      <td>...</td>\n",
       "      <td>...</td>\n",
       "      <td>...</td>\n",
       "      <td>...</td>\n",
       "      <td>...</td>\n",
       "      <td>...</td>\n",
       "      <td>...</td>\n",
       "      <td>...</td>\n",
       "      <td>...</td>\n",
       "      <td>...</td>\n",
       "      <td>...</td>\n",
       "      <td>...</td>\n",
       "    </tr>\n",
       "    <tr>\n",
       "      <th>399995</th>\n",
       "      <td>12.99</td>\n",
       "      <td>60 months</td>\n",
       "      <td>C</td>\n",
       "      <td>21.51</td>\n",
       "      <td>0.0</td>\n",
       "      <td>76.1</td>\n",
       "      <td>10000.0</td>\n",
       "      <td>0</td>\n",
       "      <td>0</td>\n",
       "      <td>1</td>\n",
       "      <td>1</td>\n",
       "      <td>0</td>\n",
       "    </tr>\n",
       "    <tr>\n",
       "      <th>399996</th>\n",
       "      <td>16.29</td>\n",
       "      <td>36 months</td>\n",
       "      <td>D</td>\n",
       "      <td>29.76</td>\n",
       "      <td>0.0</td>\n",
       "      <td>37.8</td>\n",
       "      <td>13150.0</td>\n",
       "      <td>0</td>\n",
       "      <td>1</td>\n",
       "      <td>0</td>\n",
       "      <td>0</td>\n",
       "      <td>0</td>\n",
       "    </tr>\n",
       "    <tr>\n",
       "      <th>399997</th>\n",
       "      <td>10.99</td>\n",
       "      <td>60 months</td>\n",
       "      <td>B</td>\n",
       "      <td>24.13</td>\n",
       "      <td>0.0</td>\n",
       "      <td>69.3</td>\n",
       "      <td>20000.0</td>\n",
       "      <td>0</td>\n",
       "      <td>0</td>\n",
       "      <td>0</td>\n",
       "      <td>1</td>\n",
       "      <td>0</td>\n",
       "    </tr>\n",
       "    <tr>\n",
       "      <th>399998</th>\n",
       "      <td>17.57</td>\n",
       "      <td>60 months</td>\n",
       "      <td>D</td>\n",
       "      <td>31.43</td>\n",
       "      <td>0.0</td>\n",
       "      <td>39.0</td>\n",
       "      <td>18475.0</td>\n",
       "      <td>0</td>\n",
       "      <td>1</td>\n",
       "      <td>0</td>\n",
       "      <td>1</td>\n",
       "      <td>0</td>\n",
       "    </tr>\n",
       "    <tr>\n",
       "      <th>399999</th>\n",
       "      <td>13.35</td>\n",
       "      <td>36 months</td>\n",
       "      <td>C</td>\n",
       "      <td>16.48</td>\n",
       "      <td>0.0</td>\n",
       "      <td>53.7</td>\n",
       "      <td>16000.0</td>\n",
       "      <td>0</td>\n",
       "      <td>0</td>\n",
       "      <td>0</td>\n",
       "      <td>0</td>\n",
       "      <td>1</td>\n",
       "    </tr>\n",
       "  </tbody>\n",
       "</table>\n",
       "<p>338973 rows × 12 columns</p>\n",
       "</div>"
      ],
      "text/plain": [
       "           X1          X7 X8    X21  X24   X30  average456  X12_OTHER  \\\n",
       "0       11.89   36 months  B  19.48  0.0  52.1     23027.0          0   \n",
       "1       10.71   36 months  B  14.29  0.0  76.7      4891.0          0   \n",
       "2       16.99   36 months  D  10.50  0.0  66.3     24908.0          0   \n",
       "3       13.11   36 months  C   5.47  0.0  40.4      1200.0          0   \n",
       "4       13.57   36 months  C  11.63  1.0  25.6     10764.0          0   \n",
       "...       ...         ... ..    ...  ...   ...         ...        ...   \n",
       "399995  12.99   60 months  C  21.51  0.0  76.1     10000.0          0   \n",
       "399996  16.29   36 months  D  29.76  0.0  37.8     13150.0          0   \n",
       "399997  10.99   60 months  B  24.13  0.0  69.3     20000.0          0   \n",
       "399998  17.57   60 months  D  31.43  0.0  39.0     18475.0          0   \n",
       "399999  13.35   36 months  C  16.48  0.0  53.7     16000.0          0   \n",
       "\n",
       "        X12_OWN  X12_RENT  X14_VERIFIED - income source  X14_not verified  \n",
       "0             0         1                             0                 0  \n",
       "1             0         1                             0                 1  \n",
       "2             0         1                             0                 0  \n",
       "3             1         0                             0                 1  \n",
       "4             0         1                             0                 1  \n",
       "...         ...       ...                           ...               ...  \n",
       "399995        0         1                             1                 0  \n",
       "399996        1         0                             0                 0  \n",
       "399997        0         0                             1                 0  \n",
       "399998        1         0                             1                 0  \n",
       "399999        0         0                             0                 1  \n",
       "\n",
       "[338973 rows x 12 columns]"
      ]
     },
     "execution_count": 81,
     "metadata": {},
     "output_type": "execute_result"
    }
   ],
   "source": [
    "dum_df = pd.get_dummies(train[['X12', 'X14']], drop_first=True)\n",
    "\n",
    "train = pd.concat([train.drop(columns = ['X12', 'X14']), dum_df], axis=1)\n",
    "train"
   ]
  },
  {
   "cell_type": "code",
   "execution_count": 82,
   "id": "116635b3-c4e2-464f-9498-3f0b960b9a85",
   "metadata": {},
   "outputs": [
    {
     "data": {
      "text/html": [
       "<div>\n",
       "<style scoped>\n",
       "    .dataframe tbody tr th:only-of-type {\n",
       "        vertical-align: middle;\n",
       "    }\n",
       "\n",
       "    .dataframe tbody tr th {\n",
       "        vertical-align: top;\n",
       "    }\n",
       "\n",
       "    .dataframe thead th {\n",
       "        text-align: right;\n",
       "    }\n",
       "</style>\n",
       "<table border=\"1\" class=\"dataframe\">\n",
       "  <thead>\n",
       "    <tr style=\"text-align: right;\">\n",
       "      <th></th>\n",
       "      <th>X1</th>\n",
       "      <th>X7</th>\n",
       "      <th>X8</th>\n",
       "      <th>X21</th>\n",
       "      <th>X24</th>\n",
       "      <th>X30</th>\n",
       "      <th>average456</th>\n",
       "      <th>X12_OTHER</th>\n",
       "      <th>X12_OWN</th>\n",
       "      <th>X12_RENT</th>\n",
       "      <th>X14_VERIFIED - income source</th>\n",
       "      <th>X14_not verified</th>\n",
       "    </tr>\n",
       "  </thead>\n",
       "  <tbody>\n",
       "    <tr>\n",
       "      <th>0</th>\n",
       "      <td>NaN</td>\n",
       "      <td>36 months</td>\n",
       "      <td>C</td>\n",
       "      <td>28.31</td>\n",
       "      <td>1</td>\n",
       "      <td>64.5</td>\n",
       "      <td>6000.0</td>\n",
       "      <td>0</td>\n",
       "      <td>0</td>\n",
       "      <td>0</td>\n",
       "      <td>0</td>\n",
       "      <td>0</td>\n",
       "    </tr>\n",
       "    <tr>\n",
       "      <th>1</th>\n",
       "      <td>NaN</td>\n",
       "      <td>36 months</td>\n",
       "      <td>A</td>\n",
       "      <td>16.03</td>\n",
       "      <td>1</td>\n",
       "      <td>26.2</td>\n",
       "      <td>24000.0</td>\n",
       "      <td>0</td>\n",
       "      <td>0</td>\n",
       "      <td>1</td>\n",
       "      <td>0</td>\n",
       "      <td>0</td>\n",
       "    </tr>\n",
       "    <tr>\n",
       "      <th>2</th>\n",
       "      <td>NaN</td>\n",
       "      <td>36 months</td>\n",
       "      <td>C</td>\n",
       "      <td>32.49</td>\n",
       "      <td>0</td>\n",
       "      <td>49.9</td>\n",
       "      <td>35000.0</td>\n",
       "      <td>0</td>\n",
       "      <td>0</td>\n",
       "      <td>0</td>\n",
       "      <td>0</td>\n",
       "      <td>0</td>\n",
       "    </tr>\n",
       "    <tr>\n",
       "      <th>3</th>\n",
       "      <td>NaN</td>\n",
       "      <td>60 months</td>\n",
       "      <td>D</td>\n",
       "      <td>32.96</td>\n",
       "      <td>1</td>\n",
       "      <td>43.8</td>\n",
       "      <td>10000.0</td>\n",
       "      <td>0</td>\n",
       "      <td>0</td>\n",
       "      <td>1</td>\n",
       "      <td>1</td>\n",
       "      <td>0</td>\n",
       "    </tr>\n",
       "    <tr>\n",
       "      <th>4</th>\n",
       "      <td>NaN</td>\n",
       "      <td>60 months</td>\n",
       "      <td>B</td>\n",
       "      <td>31.03</td>\n",
       "      <td>0</td>\n",
       "      <td>41.3</td>\n",
       "      <td>24000.0</td>\n",
       "      <td>0</td>\n",
       "      <td>0</td>\n",
       "      <td>0</td>\n",
       "      <td>0</td>\n",
       "      <td>0</td>\n",
       "    </tr>\n",
       "    <tr>\n",
       "      <th>...</th>\n",
       "      <td>...</td>\n",
       "      <td>...</td>\n",
       "      <td>...</td>\n",
       "      <td>...</td>\n",
       "      <td>...</td>\n",
       "      <td>...</td>\n",
       "      <td>...</td>\n",
       "      <td>...</td>\n",
       "      <td>...</td>\n",
       "      <td>...</td>\n",
       "      <td>...</td>\n",
       "      <td>...</td>\n",
       "    </tr>\n",
       "    <tr>\n",
       "      <th>79995</th>\n",
       "      <td>NaN</td>\n",
       "      <td>36 months</td>\n",
       "      <td>A</td>\n",
       "      <td>15.74</td>\n",
       "      <td>0</td>\n",
       "      <td>47.9</td>\n",
       "      <td>6400.0</td>\n",
       "      <td>0</td>\n",
       "      <td>0</td>\n",
       "      <td>0</td>\n",
       "      <td>0</td>\n",
       "      <td>1</td>\n",
       "    </tr>\n",
       "    <tr>\n",
       "      <th>79996</th>\n",
       "      <td>NaN</td>\n",
       "      <td>60 months</td>\n",
       "      <td>E</td>\n",
       "      <td>19.28</td>\n",
       "      <td>0</td>\n",
       "      <td>51.3</td>\n",
       "      <td>30000.0</td>\n",
       "      <td>0</td>\n",
       "      <td>0</td>\n",
       "      <td>0</td>\n",
       "      <td>0</td>\n",
       "      <td>0</td>\n",
       "    </tr>\n",
       "    <tr>\n",
       "      <th>79997</th>\n",
       "      <td>NaN</td>\n",
       "      <td>36 months</td>\n",
       "      <td>D</td>\n",
       "      <td>17.50</td>\n",
       "      <td>0</td>\n",
       "      <td>37.1</td>\n",
       "      <td>17600.0</td>\n",
       "      <td>0</td>\n",
       "      <td>0</td>\n",
       "      <td>0</td>\n",
       "      <td>0</td>\n",
       "      <td>1</td>\n",
       "    </tr>\n",
       "    <tr>\n",
       "      <th>79998</th>\n",
       "      <td>NaN</td>\n",
       "      <td>36 months</td>\n",
       "      <td>C</td>\n",
       "      <td>16.52</td>\n",
       "      <td>0</td>\n",
       "      <td>76.7</td>\n",
       "      <td>2500.0</td>\n",
       "      <td>0</td>\n",
       "      <td>0</td>\n",
       "      <td>0</td>\n",
       "      <td>0</td>\n",
       "      <td>1</td>\n",
       "    </tr>\n",
       "    <tr>\n",
       "      <th>79999</th>\n",
       "      <td>NaN</td>\n",
       "      <td>36 months</td>\n",
       "      <td>B</td>\n",
       "      <td>9.60</td>\n",
       "      <td>0</td>\n",
       "      <td>93.7</td>\n",
       "      <td>11800.0</td>\n",
       "      <td>0</td>\n",
       "      <td>0</td>\n",
       "      <td>0</td>\n",
       "      <td>0</td>\n",
       "      <td>1</td>\n",
       "    </tr>\n",
       "  </tbody>\n",
       "</table>\n",
       "<p>80000 rows × 12 columns</p>\n",
       "</div>"
      ],
      "text/plain": [
       "       X1          X7 X8    X21  X24   X30  average456  X12_OTHER  X12_OWN  \\\n",
       "0     NaN   36 months  C  28.31    1  64.5      6000.0          0        0   \n",
       "1     NaN   36 months  A  16.03    1  26.2     24000.0          0        0   \n",
       "2     NaN   36 months  C  32.49    0  49.9     35000.0          0        0   \n",
       "3     NaN   60 months  D  32.96    1  43.8     10000.0          0        0   \n",
       "4     NaN   60 months  B  31.03    0  41.3     24000.0          0        0   \n",
       "...    ..         ... ..    ...  ...   ...         ...        ...      ...   \n",
       "79995 NaN   36 months  A  15.74    0  47.9      6400.0          0        0   \n",
       "79996 NaN   60 months  E  19.28    0  51.3     30000.0          0        0   \n",
       "79997 NaN   36 months  D  17.50    0  37.1     17600.0          0        0   \n",
       "79998 NaN   36 months  C  16.52    0  76.7      2500.0          0        0   \n",
       "79999 NaN   36 months  B   9.60    0  93.7     11800.0          0        0   \n",
       "\n",
       "       X12_RENT  X14_VERIFIED - income source  X14_not verified  \n",
       "0             0                             0                 0  \n",
       "1             1                             0                 0  \n",
       "2             0                             0                 0  \n",
       "3             1                             1                 0  \n",
       "4             0                             0                 0  \n",
       "...         ...                           ...               ...  \n",
       "79995         0                             0                 1  \n",
       "79996         0                             0                 0  \n",
       "79997         0                             0                 1  \n",
       "79998         0                             0                 1  \n",
       "79999         0                             0                 1  \n",
       "\n",
       "[80000 rows x 12 columns]"
      ]
     },
     "execution_count": 82,
     "metadata": {},
     "output_type": "execute_result"
    }
   ],
   "source": [
    "dum_df = pd.get_dummies(test[['X12', 'X14']], drop_first=True)\n",
    "\n",
    "test = pd.concat([test.drop(columns = ['X12', 'X14']), dum_df], axis=1)\n",
    "test"
   ]
  },
  {
   "cell_type": "markdown",
   "id": "72c5edbf-ca18-4cfe-a167-50cfab2483ed",
   "metadata": {
    "tags": []
   },
   "source": [
    "#### Ordinal"
   ]
  },
  {
   "cell_type": "code",
   "execution_count": 83,
   "id": "55395f14-62e1-4851-a1e5-cfaa32b855ff",
   "metadata": {},
   "outputs": [
    {
     "data": {
      "text/plain": [
       "[' 36 months', ' 60 months']\n",
       "Categories (2, object): [' 36 months', ' 60 months']"
      ]
     },
     "execution_count": 83,
     "metadata": {},
     "output_type": "execute_result"
    }
   ],
   "source": [
    "train.X7.unique()"
   ]
  },
  {
   "cell_type": "code",
   "execution_count": 84,
   "id": "6e07bed9-16de-4a78-8636-a89a337dd5c7",
   "metadata": {},
   "outputs": [],
   "source": [
    "# remove space\n",
    "train.X7 = [x.strip() for x in train.X7]\n",
    "train.X7.unique()\n",
    "test.X7 = [x.strip() for x in test.X7]"
   ]
  },
  {
   "cell_type": "code",
   "execution_count": 85,
   "id": "a01bcbfd-d3d9-46c9-9194-2f89d41f0174",
   "metadata": {},
   "outputs": [],
   "source": [
    "map_dict = {'A':0, 'B':1, 'C':2, 'D':3, 'E':4, 'F':5,'G':6}\n",
    "train.X8 = [map_dict[x] for x in train.X8]\n",
    "train.X7 = [int(x == '60 months') for x in train.X7]\n",
    "test.X8 = [map_dict[x] for x in test.X8]\n",
    "test.X7 = [int(x == '60 months') for x in test.X7]"
   ]
  },
  {
   "cell_type": "code",
   "execution_count": 86,
   "id": "69e7c52a-1d0a-4b80-9613-429d32723654",
   "metadata": {},
   "outputs": [
    {
     "data": {
      "text/html": [
       "<div>\n",
       "<style scoped>\n",
       "    .dataframe tbody tr th:only-of-type {\n",
       "        vertical-align: middle;\n",
       "    }\n",
       "\n",
       "    .dataframe tbody tr th {\n",
       "        vertical-align: top;\n",
       "    }\n",
       "\n",
       "    .dataframe thead th {\n",
       "        text-align: right;\n",
       "    }\n",
       "</style>\n",
       "<table border=\"1\" class=\"dataframe\">\n",
       "  <thead>\n",
       "    <tr style=\"text-align: right;\">\n",
       "      <th></th>\n",
       "      <th>X1</th>\n",
       "      <th>X21</th>\n",
       "      <th>X24</th>\n",
       "      <th>X30</th>\n",
       "      <th>average456</th>\n",
       "      <th>X7</th>\n",
       "      <th>X8</th>\n",
       "      <th>X12_OTHER</th>\n",
       "      <th>X12_OWN</th>\n",
       "      <th>X12_RENT</th>\n",
       "      <th>X14_VERIFIED - income source</th>\n",
       "      <th>X14_not verified</th>\n",
       "    </tr>\n",
       "  </thead>\n",
       "  <tbody>\n",
       "    <tr>\n",
       "      <th>0</th>\n",
       "      <td>11.89</td>\n",
       "      <td>19.48</td>\n",
       "      <td>0.0</td>\n",
       "      <td>52.1</td>\n",
       "      <td>23027.0</td>\n",
       "      <td>0</td>\n",
       "      <td>1</td>\n",
       "      <td>0</td>\n",
       "      <td>0</td>\n",
       "      <td>1</td>\n",
       "      <td>0</td>\n",
       "      <td>0</td>\n",
       "    </tr>\n",
       "    <tr>\n",
       "      <th>1</th>\n",
       "      <td>10.71</td>\n",
       "      <td>14.29</td>\n",
       "      <td>0.0</td>\n",
       "      <td>76.7</td>\n",
       "      <td>4891.0</td>\n",
       "      <td>0</td>\n",
       "      <td>1</td>\n",
       "      <td>0</td>\n",
       "      <td>0</td>\n",
       "      <td>1</td>\n",
       "      <td>0</td>\n",
       "      <td>1</td>\n",
       "    </tr>\n",
       "    <tr>\n",
       "      <th>2</th>\n",
       "      <td>16.99</td>\n",
       "      <td>10.50</td>\n",
       "      <td>0.0</td>\n",
       "      <td>66.3</td>\n",
       "      <td>24908.0</td>\n",
       "      <td>0</td>\n",
       "      <td>3</td>\n",
       "      <td>0</td>\n",
       "      <td>0</td>\n",
       "      <td>1</td>\n",
       "      <td>0</td>\n",
       "      <td>0</td>\n",
       "    </tr>\n",
       "    <tr>\n",
       "      <th>3</th>\n",
       "      <td>13.11</td>\n",
       "      <td>5.47</td>\n",
       "      <td>0.0</td>\n",
       "      <td>40.4</td>\n",
       "      <td>1200.0</td>\n",
       "      <td>0</td>\n",
       "      <td>2</td>\n",
       "      <td>0</td>\n",
       "      <td>1</td>\n",
       "      <td>0</td>\n",
       "      <td>0</td>\n",
       "      <td>1</td>\n",
       "    </tr>\n",
       "    <tr>\n",
       "      <th>4</th>\n",
       "      <td>13.57</td>\n",
       "      <td>11.63</td>\n",
       "      <td>1.0</td>\n",
       "      <td>25.6</td>\n",
       "      <td>10764.0</td>\n",
       "      <td>0</td>\n",
       "      <td>2</td>\n",
       "      <td>0</td>\n",
       "      <td>0</td>\n",
       "      <td>1</td>\n",
       "      <td>0</td>\n",
       "      <td>1</td>\n",
       "    </tr>\n",
       "    <tr>\n",
       "      <th>...</th>\n",
       "      <td>...</td>\n",
       "      <td>...</td>\n",
       "      <td>...</td>\n",
       "      <td>...</td>\n",
       "      <td>...</td>\n",
       "      <td>...</td>\n",
       "      <td>...</td>\n",
       "      <td>...</td>\n",
       "      <td>...</td>\n",
       "      <td>...</td>\n",
       "      <td>...</td>\n",
       "      <td>...</td>\n",
       "    </tr>\n",
       "    <tr>\n",
       "      <th>399995</th>\n",
       "      <td>12.99</td>\n",
       "      <td>21.51</td>\n",
       "      <td>0.0</td>\n",
       "      <td>76.1</td>\n",
       "      <td>10000.0</td>\n",
       "      <td>1</td>\n",
       "      <td>2</td>\n",
       "      <td>0</td>\n",
       "      <td>0</td>\n",
       "      <td>1</td>\n",
       "      <td>1</td>\n",
       "      <td>0</td>\n",
       "    </tr>\n",
       "    <tr>\n",
       "      <th>399996</th>\n",
       "      <td>16.29</td>\n",
       "      <td>29.76</td>\n",
       "      <td>0.0</td>\n",
       "      <td>37.8</td>\n",
       "      <td>13150.0</td>\n",
       "      <td>0</td>\n",
       "      <td>3</td>\n",
       "      <td>0</td>\n",
       "      <td>1</td>\n",
       "      <td>0</td>\n",
       "      <td>0</td>\n",
       "      <td>0</td>\n",
       "    </tr>\n",
       "    <tr>\n",
       "      <th>399997</th>\n",
       "      <td>10.99</td>\n",
       "      <td>24.13</td>\n",
       "      <td>0.0</td>\n",
       "      <td>69.3</td>\n",
       "      <td>20000.0</td>\n",
       "      <td>1</td>\n",
       "      <td>1</td>\n",
       "      <td>0</td>\n",
       "      <td>0</td>\n",
       "      <td>0</td>\n",
       "      <td>1</td>\n",
       "      <td>0</td>\n",
       "    </tr>\n",
       "    <tr>\n",
       "      <th>399998</th>\n",
       "      <td>17.57</td>\n",
       "      <td>31.43</td>\n",
       "      <td>0.0</td>\n",
       "      <td>39.0</td>\n",
       "      <td>18475.0</td>\n",
       "      <td>1</td>\n",
       "      <td>3</td>\n",
       "      <td>0</td>\n",
       "      <td>1</td>\n",
       "      <td>0</td>\n",
       "      <td>1</td>\n",
       "      <td>0</td>\n",
       "    </tr>\n",
       "    <tr>\n",
       "      <th>399999</th>\n",
       "      <td>13.35</td>\n",
       "      <td>16.48</td>\n",
       "      <td>0.0</td>\n",
       "      <td>53.7</td>\n",
       "      <td>16000.0</td>\n",
       "      <td>0</td>\n",
       "      <td>2</td>\n",
       "      <td>0</td>\n",
       "      <td>0</td>\n",
       "      <td>0</td>\n",
       "      <td>0</td>\n",
       "      <td>1</td>\n",
       "    </tr>\n",
       "  </tbody>\n",
       "</table>\n",
       "<p>338973 rows × 12 columns</p>\n",
       "</div>"
      ],
      "text/plain": [
       "           X1    X21  X24   X30  average456  X7  X8  X12_OTHER  X12_OWN  \\\n",
       "0       11.89  19.48  0.0  52.1     23027.0   0   1          0        0   \n",
       "1       10.71  14.29  0.0  76.7      4891.0   0   1          0        0   \n",
       "2       16.99  10.50  0.0  66.3     24908.0   0   3          0        0   \n",
       "3       13.11   5.47  0.0  40.4      1200.0   0   2          0        1   \n",
       "4       13.57  11.63  1.0  25.6     10764.0   0   2          0        0   \n",
       "...       ...    ...  ...   ...         ...  ..  ..        ...      ...   \n",
       "399995  12.99  21.51  0.0  76.1     10000.0   1   2          0        0   \n",
       "399996  16.29  29.76  0.0  37.8     13150.0   0   3          0        1   \n",
       "399997  10.99  24.13  0.0  69.3     20000.0   1   1          0        0   \n",
       "399998  17.57  31.43  0.0  39.0     18475.0   1   3          0        1   \n",
       "399999  13.35  16.48  0.0  53.7     16000.0   0   2          0        0   \n",
       "\n",
       "        X12_RENT  X14_VERIFIED - income source  X14_not verified  \n",
       "0              1                             0                 0  \n",
       "1              1                             0                 1  \n",
       "2              1                             0                 0  \n",
       "3              0                             0                 1  \n",
       "4              1                             0                 1  \n",
       "...          ...                           ...               ...  \n",
       "399995         1                             1                 0  \n",
       "399996         0                             0                 0  \n",
       "399997         0                             1                 0  \n",
       "399998         0                             1                 0  \n",
       "399999         0                             0                 1  \n",
       "\n",
       "[338973 rows x 12 columns]"
      ]
     },
     "execution_count": 86,
     "metadata": {},
     "output_type": "execute_result"
    }
   ],
   "source": [
    "train = train[['X1', 'X21', 'X24', 'X30','average456', 'X7', 'X8', 'X12_OTHER', 'X12_OWN','X12_RENT','X14_VERIFIED - income source','X14_not verified']]\n",
    "test = test[['X1', 'X21', 'X24', 'X30','average456', 'X7', 'X8', 'X12_OTHER', 'X12_OWN','X12_RENT','X14_VERIFIED - income source','X14_not verified']]\n",
    "train"
   ]
  },
  {
   "cell_type": "code",
   "execution_count": 87,
   "id": "144debfc-96de-4550-a37e-9aaa86d57417",
   "metadata": {},
   "outputs": [
    {
     "data": {
      "text/html": [
       "<div>\n",
       "<style scoped>\n",
       "    .dataframe tbody tr th:only-of-type {\n",
       "        vertical-align: middle;\n",
       "    }\n",
       "\n",
       "    .dataframe tbody tr th {\n",
       "        vertical-align: top;\n",
       "    }\n",
       "\n",
       "    .dataframe thead th {\n",
       "        text-align: right;\n",
       "    }\n",
       "</style>\n",
       "<table border=\"1\" class=\"dataframe\">\n",
       "  <thead>\n",
       "    <tr style=\"text-align: right;\">\n",
       "      <th></th>\n",
       "      <th>X1</th>\n",
       "      <th>X21</th>\n",
       "      <th>X24</th>\n",
       "      <th>X30</th>\n",
       "      <th>average456</th>\n",
       "      <th>X7</th>\n",
       "      <th>X8</th>\n",
       "      <th>X12_OTHER</th>\n",
       "      <th>X12_OWN</th>\n",
       "      <th>X12_RENT</th>\n",
       "      <th>X14_VERIFIED - income source</th>\n",
       "      <th>X14_not verified</th>\n",
       "    </tr>\n",
       "  </thead>\n",
       "  <tbody>\n",
       "    <tr>\n",
       "      <th>0</th>\n",
       "      <td>NaN</td>\n",
       "      <td>28.31</td>\n",
       "      <td>1</td>\n",
       "      <td>64.5</td>\n",
       "      <td>6000.0</td>\n",
       "      <td>0</td>\n",
       "      <td>2</td>\n",
       "      <td>0</td>\n",
       "      <td>0</td>\n",
       "      <td>0</td>\n",
       "      <td>0</td>\n",
       "      <td>0</td>\n",
       "    </tr>\n",
       "    <tr>\n",
       "      <th>1</th>\n",
       "      <td>NaN</td>\n",
       "      <td>16.03</td>\n",
       "      <td>1</td>\n",
       "      <td>26.2</td>\n",
       "      <td>24000.0</td>\n",
       "      <td>0</td>\n",
       "      <td>0</td>\n",
       "      <td>0</td>\n",
       "      <td>0</td>\n",
       "      <td>1</td>\n",
       "      <td>0</td>\n",
       "      <td>0</td>\n",
       "    </tr>\n",
       "    <tr>\n",
       "      <th>2</th>\n",
       "      <td>NaN</td>\n",
       "      <td>32.49</td>\n",
       "      <td>0</td>\n",
       "      <td>49.9</td>\n",
       "      <td>35000.0</td>\n",
       "      <td>0</td>\n",
       "      <td>2</td>\n",
       "      <td>0</td>\n",
       "      <td>0</td>\n",
       "      <td>0</td>\n",
       "      <td>0</td>\n",
       "      <td>0</td>\n",
       "    </tr>\n",
       "    <tr>\n",
       "      <th>3</th>\n",
       "      <td>NaN</td>\n",
       "      <td>32.96</td>\n",
       "      <td>1</td>\n",
       "      <td>43.8</td>\n",
       "      <td>10000.0</td>\n",
       "      <td>1</td>\n",
       "      <td>3</td>\n",
       "      <td>0</td>\n",
       "      <td>0</td>\n",
       "      <td>1</td>\n",
       "      <td>1</td>\n",
       "      <td>0</td>\n",
       "    </tr>\n",
       "    <tr>\n",
       "      <th>4</th>\n",
       "      <td>NaN</td>\n",
       "      <td>31.03</td>\n",
       "      <td>0</td>\n",
       "      <td>41.3</td>\n",
       "      <td>24000.0</td>\n",
       "      <td>1</td>\n",
       "      <td>1</td>\n",
       "      <td>0</td>\n",
       "      <td>0</td>\n",
       "      <td>0</td>\n",
       "      <td>0</td>\n",
       "      <td>0</td>\n",
       "    </tr>\n",
       "    <tr>\n",
       "      <th>...</th>\n",
       "      <td>...</td>\n",
       "      <td>...</td>\n",
       "      <td>...</td>\n",
       "      <td>...</td>\n",
       "      <td>...</td>\n",
       "      <td>...</td>\n",
       "      <td>...</td>\n",
       "      <td>...</td>\n",
       "      <td>...</td>\n",
       "      <td>...</td>\n",
       "      <td>...</td>\n",
       "      <td>...</td>\n",
       "    </tr>\n",
       "    <tr>\n",
       "      <th>79995</th>\n",
       "      <td>NaN</td>\n",
       "      <td>15.74</td>\n",
       "      <td>0</td>\n",
       "      <td>47.9</td>\n",
       "      <td>6400.0</td>\n",
       "      <td>0</td>\n",
       "      <td>0</td>\n",
       "      <td>0</td>\n",
       "      <td>0</td>\n",
       "      <td>0</td>\n",
       "      <td>0</td>\n",
       "      <td>1</td>\n",
       "    </tr>\n",
       "    <tr>\n",
       "      <th>79996</th>\n",
       "      <td>NaN</td>\n",
       "      <td>19.28</td>\n",
       "      <td>0</td>\n",
       "      <td>51.3</td>\n",
       "      <td>30000.0</td>\n",
       "      <td>1</td>\n",
       "      <td>4</td>\n",
       "      <td>0</td>\n",
       "      <td>0</td>\n",
       "      <td>0</td>\n",
       "      <td>0</td>\n",
       "      <td>0</td>\n",
       "    </tr>\n",
       "    <tr>\n",
       "      <th>79997</th>\n",
       "      <td>NaN</td>\n",
       "      <td>17.50</td>\n",
       "      <td>0</td>\n",
       "      <td>37.1</td>\n",
       "      <td>17600.0</td>\n",
       "      <td>0</td>\n",
       "      <td>3</td>\n",
       "      <td>0</td>\n",
       "      <td>0</td>\n",
       "      <td>0</td>\n",
       "      <td>0</td>\n",
       "      <td>1</td>\n",
       "    </tr>\n",
       "    <tr>\n",
       "      <th>79998</th>\n",
       "      <td>NaN</td>\n",
       "      <td>16.52</td>\n",
       "      <td>0</td>\n",
       "      <td>76.7</td>\n",
       "      <td>2500.0</td>\n",
       "      <td>0</td>\n",
       "      <td>2</td>\n",
       "      <td>0</td>\n",
       "      <td>0</td>\n",
       "      <td>0</td>\n",
       "      <td>0</td>\n",
       "      <td>1</td>\n",
       "    </tr>\n",
       "    <tr>\n",
       "      <th>79999</th>\n",
       "      <td>NaN</td>\n",
       "      <td>9.60</td>\n",
       "      <td>0</td>\n",
       "      <td>93.7</td>\n",
       "      <td>11800.0</td>\n",
       "      <td>0</td>\n",
       "      <td>1</td>\n",
       "      <td>0</td>\n",
       "      <td>0</td>\n",
       "      <td>0</td>\n",
       "      <td>0</td>\n",
       "      <td>1</td>\n",
       "    </tr>\n",
       "  </tbody>\n",
       "</table>\n",
       "<p>80000 rows × 12 columns</p>\n",
       "</div>"
      ],
      "text/plain": [
       "       X1    X21  X24   X30  average456  X7  X8  X12_OTHER  X12_OWN  X12_RENT  \\\n",
       "0     NaN  28.31    1  64.5      6000.0   0   2          0        0         0   \n",
       "1     NaN  16.03    1  26.2     24000.0   0   0          0        0         1   \n",
       "2     NaN  32.49    0  49.9     35000.0   0   2          0        0         0   \n",
       "3     NaN  32.96    1  43.8     10000.0   1   3          0        0         1   \n",
       "4     NaN  31.03    0  41.3     24000.0   1   1          0        0         0   \n",
       "...    ..    ...  ...   ...         ...  ..  ..        ...      ...       ...   \n",
       "79995 NaN  15.74    0  47.9      6400.0   0   0          0        0         0   \n",
       "79996 NaN  19.28    0  51.3     30000.0   1   4          0        0         0   \n",
       "79997 NaN  17.50    0  37.1     17600.0   0   3          0        0         0   \n",
       "79998 NaN  16.52    0  76.7      2500.0   0   2          0        0         0   \n",
       "79999 NaN   9.60    0  93.7     11800.0   0   1          0        0         0   \n",
       "\n",
       "       X14_VERIFIED - income source  X14_not verified  \n",
       "0                                 0                 0  \n",
       "1                                 0                 0  \n",
       "2                                 0                 0  \n",
       "3                                 1                 0  \n",
       "4                                 0                 0  \n",
       "...                             ...               ...  \n",
       "79995                             0                 1  \n",
       "79996                             0                 0  \n",
       "79997                             0                 1  \n",
       "79998                             0                 1  \n",
       "79999                             0                 1  \n",
       "\n",
       "[80000 rows x 12 columns]"
      ]
     },
     "execution_count": 87,
     "metadata": {},
     "output_type": "execute_result"
    }
   ],
   "source": [
    "test"
   ]
  },
  {
   "cell_type": "markdown",
   "id": "a5a12aee-4d75-4315-a36a-e011d5df2b31",
   "metadata": {
    "tags": []
   },
   "source": [
    "## Step 2:\n",
    "Build your models: Please build machine learning/statistical models in Python to predict the interest rate assigned to a loan. When writing the code associated with each model, please have the first part produce and save the model, followed by a second part that loads and applies the model."
   ]
  },
  {
   "cell_type": "markdown",
   "id": "38df88f8-0c0d-45a3-8f2b-fc783c0d7fed",
   "metadata": {},
   "source": [
    "### Compare baseline"
   ]
  },
  {
   "cell_type": "code",
   "execution_count": 88,
   "id": "efc749b7-ba66-49e3-a1b6-8beeb918435b",
   "metadata": {},
   "outputs": [
    {
     "data": {
      "text/plain": [
       "array([[ 5.98,  0.  , 18.4 , ...,  0.  ,  0.  ,  1.  ],\n",
       "       [16.3 ,  0.  , 32.8 , ...,  0.  ,  0.  ,  1.  ],\n",
       "       [17.51,  1.  , 52.5 , ...,  0.  ,  0.  ,  0.  ],\n",
       "       ...,\n",
       "       [11.53,  0.  , 75.  , ...,  0.  ,  0.  ,  1.  ],\n",
       "       [ 6.71,  0.  , 10.2 , ...,  1.  ,  0.  ,  0.  ],\n",
       "       [15.23,  0.  , 78.6 , ...,  1.  ,  0.  ,  0.  ]])"
      ]
     },
     "execution_count": 88,
     "metadata": {},
     "output_type": "execute_result"
    }
   ],
   "source": [
    "X = train.iloc[:,1:].values\n",
    "y = train['X1'].values\n",
    "\n",
    "# train valid split\n",
    "X_train, X_valid, y_train, y_valid = train_test_split(X, y, test_size = 0.2, random_state=42)\n",
    "X_train"
   ]
  },
  {
   "cell_type": "code",
   "execution_count": 89,
   "id": "618d90f9-0484-4486-ad8d-ea247e6ca826",
   "metadata": {},
   "outputs": [],
   "source": [
    "# StandardScaler on numerical values\n",
    "scaler = StandardScaler()\n",
    "X_scaled_train = np.concatenate((scaler.fit_transform(X_train[:,:4]),X_train[:, 4:]), axis=1)\n",
    "X_scaled_valid = np.concatenate((scaler.transform(X_valid[:, :4]),X_valid[:, 4:]), axis=1)"
   ]
  },
  {
   "cell_type": "code",
   "execution_count": 76,
   "id": "0b4e1e39-dddb-42b5-b51a-f0c32d0b0c58",
   "metadata": {},
   "outputs": [],
   "source": [
    "# modeling\n",
    "# get a list of models to evaluate\n",
    "def get_models():\n",
    "    models = dict()\n",
    "    models['LinearReg'] = LinearRegression()\n",
    "    models['RandomForest'] = RandomForestRegressor()\n",
    "    models['xgb'] = xgb.XGBRegressor(verbosity=0) \n",
    "    return models"
   ]
  },
  {
   "cell_type": "code",
   "execution_count": 85,
   "id": "dae9a4b5-5ca2-4efd-9956-f377a3678af7",
   "metadata": {},
   "outputs": [
    {
     "name": "stdout",
     "output_type": "stream",
     "text": [
      "LinearReg valid score 4.504 \n",
      "RandomForest valid score 3.769 \n",
      "xgb valid score 3.456 \n"
     ]
    }
   ],
   "source": [
    "models = get_models()\n",
    "results, names = list(), list()\n",
    "\n",
    "for name,model in models.items():\n",
    "    model.fit(X_scaled_train, y_train)\n",
    "    y_pred = model.predict(X_scaled_valid)\n",
    "    scores = mean_squared_error(y_valid, y_pred)\n",
    "    results.append(scores)\n",
    "    names.append(name)\n",
    "    print('%s valid score %.3f ' % (name, np.mean(scores)))"
   ]
  },
  {
   "cell_type": "markdown",
   "id": "617d3a39-edd3-4841-a7cd-3eb480ff88bf",
   "metadata": {},
   "source": [
    "### fine tune models"
   ]
  },
  {
   "cell_type": "markdown",
   "id": "56867380-d9a7-4b0a-b752-6a8a93781cea",
   "metadata": {},
   "source": [
    "#### Random forest"
   ]
  },
  {
   "cell_type": "code",
   "execution_count": 90,
   "id": "6b05183b-a7c4-4bf7-a5ad-7b75a265623c",
   "metadata": {},
   "outputs": [],
   "source": [
    "from sklearn.model_selection import GridSearchCV\n",
    "# Create the parameter grid based on the results of random search \n",
    "param_grid = {\n",
    "    'max_depth': [80, 110],\n",
    "    'max_features': [2,3],\n",
    "}\n",
    "# Create a based model\n",
    "rf = RandomForestRegressor()\n",
    "# Instantiate the grid search model\n",
    "grid_search = GridSearchCV(estimator = rf, param_grid = param_grid, \n",
    "                          cv = 2, n_jobs = -1, verbose = 2)"
   ]
  },
  {
   "cell_type": "code",
   "execution_count": 92,
   "id": "89d13db5-7574-4fdd-a048-33e3dfc8858f",
   "metadata": {},
   "outputs": [
    {
     "name": "stdout",
     "output_type": "stream",
     "text": [
      "Fitting 2 folds for each of 4 candidates, totalling 8 fits\n"
     ]
    },
    {
     "data": {
      "text/plain": [
       "{'max_depth': 110, 'max_features': 3}"
      ]
     },
     "execution_count": 92,
     "metadata": {},
     "output_type": "execute_result"
    }
   ],
   "source": [
    "grid_search.fit(X_scaled_train, y_train)\n",
    "grid_search.best_params_"
   ]
  },
  {
   "cell_type": "code",
   "execution_count": 94,
   "id": "f303ca93-62d2-4f9a-882e-035d1b78d881",
   "metadata": {},
   "outputs": [
    {
     "name": "stdout",
     "output_type": "stream",
     "text": [
      "Fitting 2 folds for each of 4 candidates, totalling 8 fits\n"
     ]
    },
    {
     "data": {
      "text/plain": [
       "{'max_depth': 150, 'max_features': 7}"
      ]
     },
     "execution_count": 94,
     "metadata": {},
     "output_type": "execute_result"
    }
   ],
   "source": [
    "param_grid = {\n",
    "    'max_depth': [150, 300],\n",
    "    'max_features': [7,10],\n",
    "}\n",
    "# Create a based model\n",
    "rf = RandomForestRegressor()\n",
    "# Instantiate the grid search model\n",
    "grid_search = GridSearchCV(estimator = rf, param_grid = param_grid, \n",
    "                          cv = 2, n_jobs = -1, verbose = 2)\n",
    "\n",
    "grid_search.fit(X_scaled_train, y_train)\n",
    "grid_search.best_params_"
   ]
  },
  {
   "cell_type": "code",
   "execution_count": 99,
   "id": "5ab22a22-c84a-413c-b087-133767fbbdd9",
   "metadata": {},
   "outputs": [
    {
     "name": "stdout",
     "output_type": "stream",
     "text": [
      "Fitting 2 folds for each of 8 candidates, totalling 16 fits\n"
     ]
    },
    {
     "data": {
      "text/plain": [
       "{'max_depth': 150,\n",
       " 'max_features': 7,\n",
       " 'min_samples_leaf': 5,\n",
       " 'min_samples_split': 10,\n",
       " 'n_estimators': 300}"
      ]
     },
     "execution_count": 99,
     "metadata": {},
     "output_type": "execute_result"
    }
   ],
   "source": [
    "param_grid = {\n",
    "    'max_depth': [150],\n",
    "    'max_features': [7],\n",
    "    'min_samples_leaf': [3, 5],\n",
    "    'min_samples_split': [8, 10],\n",
    "    'n_estimators': [100, 300]\n",
    "}\n",
    "# Create a based model\n",
    "rf = RandomForestRegressor()\n",
    "# Instantiate the grid search model\n",
    "grid_search = GridSearchCV(estimator = rf, param_grid = param_grid, \n",
    "                          cv = 2, n_jobs = -1, verbose = 2)\n",
    "\n",
    "grid_search.fit(X_scaled_train, y_train)\n",
    "grid_search.best_params_"
   ]
  },
  {
   "cell_type": "code",
   "execution_count": 100,
   "id": "f32b9ac8-7320-4681-9827-cb22522b2755",
   "metadata": {},
   "outputs": [
    {
     "name": "stdout",
     "output_type": "stream",
     "text": [
      "Fitting 2 folds for each of 8 candidates, totalling 16 fits\n"
     ]
    },
    {
     "data": {
      "text/plain": [
       "{'max_depth': 150,\n",
       " 'max_features': 7,\n",
       " 'min_samples_leaf': 7,\n",
       " 'min_samples_split': 10,\n",
       " 'n_estimators': 300}"
      ]
     },
     "execution_count": 100,
     "metadata": {},
     "output_type": "execute_result"
    }
   ],
   "source": [
    "param_grid = {\n",
    "    'max_depth': [150],\n",
    "    'max_features': [7],\n",
    "    'min_samples_leaf': [5, 7],\n",
    "    'min_samples_split': [10, 13],\n",
    "    'n_estimators': [300, 350]\n",
    "}\n",
    "# Create a based model\n",
    "rf = RandomForestRegressor()\n",
    "# Instantiate the grid search model\n",
    "grid_search = GridSearchCV(estimator = rf, param_grid = param_grid, \n",
    "                          cv = 2, n_jobs = -1, verbose = 2)\n",
    "\n",
    "grid_search.fit(X_scaled_train, y_train)\n",
    "grid_search.best_params_"
   ]
  },
  {
   "cell_type": "code",
   "execution_count": 103,
   "id": "b901449e-5d35-437e-b74e-996bc7391632",
   "metadata": {},
   "outputs": [
    {
     "name": "stdout",
     "output_type": "stream",
     "text": [
      "Fitting 2 folds for each of 2 candidates, totalling 4 fits\n"
     ]
    },
    {
     "data": {
      "text/plain": [
       "{'max_depth': 150,\n",
       " 'max_features': 7,\n",
       " 'min_samples_leaf': 11,\n",
       " 'min_samples_split': 10,\n",
       " 'n_estimators': 300}"
      ]
     },
     "execution_count": 103,
     "metadata": {},
     "output_type": "execute_result"
    }
   ],
   "source": [
    "param_grid = {\n",
    "    'max_depth': [150],\n",
    "    'max_features': [7],\n",
    "    'min_samples_leaf': [9,11],\n",
    "    'min_samples_split': [10],\n",
    "    'n_estimators': [300]\n",
    "}\n",
    "# Create a based model\n",
    "rf = RandomForestRegressor()\n",
    "# Instantiate the grid search model\n",
    "grid_search = GridSearchCV(estimator = rf, param_grid = param_grid, \n",
    "                          cv = 2, n_jobs = -1, verbose = 2)\n",
    "\n",
    "grid_search.fit(X_scaled_train, y_train)\n",
    "grid_search.best_params_"
   ]
  },
  {
   "cell_type": "code",
   "execution_count": 104,
   "id": "3047fa01-0f25-43ba-932d-b022f4f6c33d",
   "metadata": {},
   "outputs": [
    {
     "name": "stdout",
     "output_type": "stream",
     "text": [
      "Fitting 2 folds for each of 2 candidates, totalling 4 fits\n"
     ]
    },
    {
     "data": {
      "text/plain": [
       "{'max_depth': 150,\n",
       " 'max_features': 7,\n",
       " 'min_samples_leaf': 13,\n",
       " 'min_samples_split': 10,\n",
       " 'n_estimators': 300}"
      ]
     },
     "execution_count": 104,
     "metadata": {},
     "output_type": "execute_result"
    }
   ],
   "source": [
    "param_grid = {\n",
    "    'max_depth': [150],\n",
    "    'max_features': [7],\n",
    "    'min_samples_leaf': [11, 13],\n",
    "    'min_samples_split': [10],\n",
    "    'n_estimators': [300]\n",
    "}\n",
    "# Create a based model\n",
    "rf = RandomForestRegressor()\n",
    "# Instantiate the grid search model\n",
    "grid_search = GridSearchCV(estimator = rf, param_grid = param_grid, \n",
    "                          cv = 2, n_jobs = -1, verbose = 2)\n",
    "\n",
    "grid_search.fit(X_scaled_train, y_train)\n",
    "grid_search.best_params_"
   ]
  },
  {
   "cell_type": "code",
   "execution_count": 105,
   "id": "eead99e9-c8c1-4345-b7e6-d272d425e5b2",
   "metadata": {},
   "outputs": [
    {
     "data": {
      "text/plain": [
       "3.5198616333662343"
      ]
     },
     "execution_count": 105,
     "metadata": {},
     "output_type": "execute_result"
    }
   ],
   "source": [
    "rf = RandomForestRegressor(max_depth=150,max_features=7, min_samples_leaf=13, min_samples_split = 10, n_estimators=300 )\n",
    "rf.fit(X_scaled_train, y_train)\n",
    "y_pred = rf.predict(X_scaled_valid)\n",
    "mean_squared_error(y_valid, y_pred)"
   ]
  },
  {
   "cell_type": "code",
   "execution_count": null,
   "id": "3b297b37-c995-40b0-ad6c-70d007165918",
   "metadata": {},
   "outputs": [],
   "source": []
  },
  {
   "cell_type": "markdown",
   "id": "25f70006-6504-41cc-936a-a44127816d11",
   "metadata": {},
   "source": [
    "#### XGBoost"
   ]
  },
  {
   "cell_type": "code",
   "execution_count": 107,
   "id": "05aa27af-3e60-412d-bc6b-bad54cd60667",
   "metadata": {},
   "outputs": [
    {
     "name": "stdout",
     "output_type": "stream",
     "text": [
      "Fitting 2 folds for each of 4 candidates, totalling 8 fits\n"
     ]
    },
    {
     "data": {
      "text/plain": [
       "{'gamma': 0,\n",
       " 'learning_rate': 0.1,\n",
       " 'max_depth': 6,\n",
       " 'n_estimators': 500,\n",
       " 'subsample': 0.8}"
      ]
     },
     "execution_count": 107,
     "metadata": {},
     "output_type": "execute_result"
    }
   ],
   "source": [
    "# Create the parameter grid\n",
    "param_grid = {\n",
    "    'learning_rate': [0.1],\n",
    "    'gamma': [0], \n",
    "    'n_estimators':[500],\n",
    "    'subsample': [0.6,0.8],\n",
    "    'max_depth': [4, 6]\n",
    "}\n",
    "xgbr = xgb.XGBRegressor(verbosity=0) \n",
    "# Instantiate the grid search model\n",
    "grid_search = GridSearchCV(estimator = xgbr, param_grid = param_grid, \n",
    "                          cv = 2, n_jobs = -1, verbose = 2)\n",
    "\n",
    "grid_search.fit(X_scaled_train, y_train)\n",
    "grid_search.best_params_"
   ]
  },
  {
   "cell_type": "code",
   "execution_count": 108,
   "id": "f39265d3-ac49-4dcc-b5e5-ce39fdf6a349",
   "metadata": {},
   "outputs": [
    {
     "name": "stdout",
     "output_type": "stream",
     "text": [
      "Fitting 2 folds for each of 4 candidates, totalling 8 fits\n"
     ]
    },
    {
     "data": {
      "text/plain": [
       "{'gamma': 0,\n",
       " 'learning_rate': 0.1,\n",
       " 'max_depth': 6,\n",
       " 'n_estimators': 500,\n",
       " 'subsample': 0.9}"
      ]
     },
     "execution_count": 108,
     "metadata": {},
     "output_type": "execute_result"
    }
   ],
   "source": [
    "# Create the parameter grid\n",
    "param_grid = {\n",
    "    'learning_rate': [0.1],\n",
    "    'gamma': [0], \n",
    "    'n_estimators':[500],\n",
    "    'subsample': [0.8,0.9],\n",
    "    'max_depth': [6,8]\n",
    "}\n",
    "xgbr = xgb.XGBRegressor(verbosity=0) \n",
    "# Instantiate the grid search model\n",
    "grid_search = GridSearchCV(estimator = xgbr, param_grid = param_grid, \n",
    "                          cv = 2, n_jobs = -1, verbose = 2)\n",
    "\n",
    "grid_search.fit(X_scaled_train, y_train)\n",
    "grid_search.best_params_"
   ]
  },
  {
   "cell_type": "code",
   "execution_count": 109,
   "id": "28a34bb9-27ca-42a4-b2d0-75204cc2273d",
   "metadata": {},
   "outputs": [
    {
     "name": "stdout",
     "output_type": "stream",
     "text": [
      "Fitting 2 folds for each of 2 candidates, totalling 4 fits\n"
     ]
    },
    {
     "data": {
      "text/plain": [
       "{'gamma': 0,\n",
       " 'learning_rate': 0.1,\n",
       " 'max_depth': 5,\n",
       " 'n_estimators': 500,\n",
       " 'subsample': 0.9}"
      ]
     },
     "execution_count": 109,
     "metadata": {},
     "output_type": "execute_result"
    }
   ],
   "source": [
    "# Create the parameter grid\n",
    "param_grid = {\n",
    "    'learning_rate': [0.1],\n",
    "    'gamma': [0], \n",
    "    'n_estimators':[500],\n",
    "    'subsample': [0.9],\n",
    "    'max_depth': [5,6]\n",
    "}\n",
    "xgbr = xgb.XGBRegressor(verbosity=0) \n",
    "# Instantiate the grid search model\n",
    "grid_search = GridSearchCV(estimator = xgbr, param_grid = param_grid, \n",
    "                          cv = 2, n_jobs = -1, verbose = 2)\n",
    "\n",
    "grid_search.fit(X_scaled_train, y_train)\n",
    "grid_search.best_params_"
   ]
  },
  {
   "cell_type": "code",
   "execution_count": 110,
   "id": "cf568981-2508-42ac-97c1-b7f1da169ba4",
   "metadata": {},
   "outputs": [
    {
     "name": "stdout",
     "output_type": "stream",
     "text": [
      "Fitting 2 folds for each of 5 candidates, totalling 10 fits\n"
     ]
    },
    {
     "data": {
      "text/plain": [
       "{'gamma': 0.4,\n",
       " 'learning_rate': 0.1,\n",
       " 'max_depth': 5,\n",
       " 'n_estimators': 500,\n",
       " 'subsample': 0.9}"
      ]
     },
     "execution_count": 110,
     "metadata": {},
     "output_type": "execute_result"
    }
   ],
   "source": [
    "# Create the parameter grid\n",
    "param_grid = {\n",
    "    'learning_rate': [0.1],\n",
    "    'gamma': [i/10.0 for i in range(0,5)], \n",
    "    'n_estimators':[500],\n",
    "    'subsample': [0.9],\n",
    "    'max_depth': [5]\n",
    "}\n",
    "xgbr = xgb.XGBRegressor(verbosity=0) \n",
    "# Instantiate the grid search model\n",
    "grid_search = GridSearchCV(estimator = xgbr, param_grid = param_grid, \n",
    "                          cv = 2, n_jobs = -1, verbose = 2)\n",
    "\n",
    "grid_search.fit(X_scaled_train, y_train)\n",
    "grid_search.best_params_"
   ]
  },
  {
   "cell_type": "code",
   "execution_count": 111,
   "id": "81250592-bc8b-46af-a40d-46ecfe0ecdbb",
   "metadata": {},
   "outputs": [
    {
     "data": {
      "text/plain": [
       "0.8191165004030045"
      ]
     },
     "execution_count": 111,
     "metadata": {},
     "output_type": "execute_result"
    }
   ],
   "source": [
    "grid_search.best_score_"
   ]
  },
  {
   "cell_type": "code",
   "execution_count": 112,
   "id": "af117479-4e30-4e03-ba90-e8036a648a16",
   "metadata": {},
   "outputs": [
    {
     "name": "stdout",
     "output_type": "stream",
     "text": [
      "Fitting 2 folds for each of 1 candidates, totalling 2 fits\n"
     ]
    },
    {
     "data": {
      "text/plain": [
       "{'gamma': 0.4,\n",
       " 'learning_rate': 0.01,\n",
       " 'max_depth': 5,\n",
       " 'n_estimators': 500,\n",
       " 'subsample': 0.9}"
      ]
     },
     "execution_count": 112,
     "metadata": {},
     "output_type": "execute_result"
    }
   ],
   "source": [
    "# Create the parameter grid\n",
    "param_grid = {\n",
    "    'learning_rate': [0.01],\n",
    "    'gamma': [0.4], \n",
    "    'n_estimators':[500],\n",
    "    'subsample': [0.9],\n",
    "    'max_depth': [5]\n",
    "}\n",
    "xgbr = xgb.XGBRegressor(verbosity=0) \n",
    "# Instantiate the grid search model\n",
    "grid_search = GridSearchCV(estimator = xgbr, param_grid = param_grid, \n",
    "                          cv = 2, n_jobs = -1, verbose = 2)\n",
    "\n",
    "grid_search.fit(X_scaled_train, y_train)\n",
    "grid_search.best_params_"
   ]
  },
  {
   "cell_type": "code",
   "execution_count": 113,
   "id": "a80dab9c-030c-4a69-bb9a-b5634739a27f",
   "metadata": {},
   "outputs": [
    {
     "data": {
      "text/plain": [
       "0.8135518648575809"
      ]
     },
     "execution_count": 113,
     "metadata": {},
     "output_type": "execute_result"
    }
   ],
   "source": [
    "grid_search.best_score_"
   ]
  },
  {
   "cell_type": "code",
   "execution_count": 114,
   "id": "5b89a55f-1c92-4397-a0eb-98f98c0b4040",
   "metadata": {},
   "outputs": [
    {
     "data": {
      "text/plain": [
       "3.4257622159359364"
      ]
     },
     "execution_count": 114,
     "metadata": {},
     "output_type": "execute_result"
    }
   ],
   "source": [
    "xgbr = xgb.XGBRegressor(verbosity=0,\n",
    "    learning_rate = 0.1,\n",
    "    gamma = 0.4, \n",
    "    n_estimators = 500,\n",
    "    subsample = 0.9,\n",
    "    max_depth = 5) \n",
    "\n",
    "xgbr.fit(X_scaled_train, y_train)\n",
    "y_pred = xgbr.predict(X_scaled_valid)\n",
    "mean_squared_error(y_valid, y_pred)"
   ]
  },
  {
   "cell_type": "markdown",
   "id": "4ab80dba-f790-4f20-9b8d-7dcbbce7aec0",
   "metadata": {
    "tags": []
   },
   "source": [
    "## Step 3:\n",
    "Test your models using the data found within the \"Holdout for Testing\" file. Save the results of the final model (remember you will only predict the first column in holdout test set with your best model results) in a single, separate CSV titled \"Results from\" *insert your name or UChicago net ID."
   ]
  },
  {
   "cell_type": "code",
   "execution_count": 117,
   "id": "c5970234-fb7f-4628-a062-c69a663a0d34",
   "metadata": {},
   "outputs": [
    {
     "data": {
      "text/plain": [
       "array([[28.31,  1.  , 64.5 , ...,  0.  ,  0.  ,  0.  ],\n",
       "       [16.03,  1.  , 26.2 , ...,  1.  ,  0.  ,  0.  ],\n",
       "       [32.49,  0.  , 49.9 , ...,  0.  ,  0.  ,  0.  ],\n",
       "       ...,\n",
       "       [17.5 ,  0.  , 37.1 , ...,  0.  ,  0.  ,  1.  ],\n",
       "       [16.52,  0.  , 76.7 , ...,  0.  ,  0.  ,  1.  ],\n",
       "       [ 9.6 ,  0.  , 93.7 , ...,  0.  ,  0.  ,  1.  ]])"
      ]
     },
     "execution_count": 117,
     "metadata": {},
     "output_type": "execute_result"
    }
   ],
   "source": [
    "X_test = test.iloc[:,1:].values\n",
    "X_test"
   ]
  },
  {
   "cell_type": "code",
   "execution_count": 118,
   "id": "7712a66e-a1d7-4681-97d2-9d9fccbb4d32",
   "metadata": {},
   "outputs": [],
   "source": [
    "# fit on whole dataset\n",
    "scaler = StandardScaler()\n",
    "X_scaled = np.concatenate((scaler.fit_transform(X[:,:4]),X[:, 4:]), axis=1)\n",
    "X_scaled_test = np.concatenate((scaler.transform(X_test[:, :4]),X_test[:, 4:]), axis=1)\n",
    "\n",
    "xgbr = xgb.XGBRegressor(verbosity=0,\n",
    "    learning_rate = 0.1,\n",
    "    gamma = 0.4, \n",
    "    n_estimators = 500,\n",
    "    subsample = 0.9,\n",
    "    max_depth = 5) \n",
    "xgbr.fit(X, y)\n",
    "\n",
    "y_pred = xgbr.predict(X_scaled_test)"
   ]
  },
  {
   "cell_type": "code",
   "execution_count": 121,
   "id": "6c5729ee-135e-45ac-909e-8c3fc7a2f15a",
   "metadata": {},
   "outputs": [],
   "source": [
    "pd.DataFrame(y_pred, columns = ['X1']).to_csv('Results from Yingfan Duan.csv', index=False)"
   ]
  },
  {
   "cell_type": "code",
   "execution_count": 1,
   "id": "a1dfdfe3-0862-413e-bd2e-ff9f95401d0b",
   "metadata": {},
   "outputs": [],
   "source": [
    "import pandas as pd\n",
    "\n",
    "result = pd.read_csv('Results from Yingfan Duan.csv')"
   ]
  },
  {
   "cell_type": "code",
   "execution_count": 3,
   "id": "f3336426-4532-4f14-93e5-137c6f8f3068",
   "metadata": {},
   "outputs": [
    {
     "data": {
      "text/html": [
       "<div>\n",
       "<style scoped>\n",
       "    .dataframe tbody tr th:only-of-type {\n",
       "        vertical-align: middle;\n",
       "    }\n",
       "\n",
       "    .dataframe tbody tr th {\n",
       "        vertical-align: top;\n",
       "    }\n",
       "\n",
       "    .dataframe thead th {\n",
       "        text-align: right;\n",
       "    }\n",
       "</style>\n",
       "<table border=\"1\" class=\"dataframe\">\n",
       "  <thead>\n",
       "    <tr style=\"text-align: right;\">\n",
       "      <th></th>\n",
       "      <th>X1</th>\n",
       "    </tr>\n",
       "  </thead>\n",
       "  <tbody>\n",
       "    <tr>\n",
       "      <th>0</th>\n",
       "      <td>0.129046</td>\n",
       "    </tr>\n",
       "    <tr>\n",
       "      <th>1</th>\n",
       "      <td>0.080451</td>\n",
       "    </tr>\n",
       "    <tr>\n",
       "      <th>2</th>\n",
       "      <td>0.126796</td>\n",
       "    </tr>\n",
       "    <tr>\n",
       "      <th>3</th>\n",
       "      <td>0.161810</td>\n",
       "    </tr>\n",
       "    <tr>\n",
       "      <th>4</th>\n",
       "      <td>0.135635</td>\n",
       "    </tr>\n",
       "    <tr>\n",
       "      <th>...</th>\n",
       "      <td>...</td>\n",
       "    </tr>\n",
       "    <tr>\n",
       "      <th>79995</th>\n",
       "      <td>0.074508</td>\n",
       "    </tr>\n",
       "    <tr>\n",
       "      <th>79996</th>\n",
       "      <td>0.207127</td>\n",
       "    </tr>\n",
       "    <tr>\n",
       "      <th>79997</th>\n",
       "      <td>0.145855</td>\n",
       "    </tr>\n",
       "    <tr>\n",
       "      <th>79998</th>\n",
       "      <td>0.119623</td>\n",
       "    </tr>\n",
       "    <tr>\n",
       "      <th>79999</th>\n",
       "      <td>0.095428</td>\n",
       "    </tr>\n",
       "  </tbody>\n",
       "</table>\n",
       "<p>80000 rows × 1 columns</p>\n",
       "</div>"
      ],
      "text/plain": [
       "             X1\n",
       "0      0.129046\n",
       "1      0.080451\n",
       "2      0.126796\n",
       "3      0.161810\n",
       "4      0.135635\n",
       "...         ...\n",
       "79995  0.074508\n",
       "79996  0.207127\n",
       "79997  0.145855\n",
       "79998  0.119623\n",
       "79999  0.095428\n",
       "\n",
       "[80000 rows x 1 columns]"
      ]
     },
     "execution_count": 3,
     "metadata": {},
     "output_type": "execute_result"
    }
   ],
   "source": [
    "result['X1'] = [x * 0.01 for x in result.X1]\n",
    "result"
   ]
  },
  {
   "cell_type": "code",
   "execution_count": 4,
   "id": "c0e9b8c3-b541-4751-8a4d-ab41126612a2",
   "metadata": {},
   "outputs": [],
   "source": [
    "result.to_csv('Results from Yingfan Duan.csv', index=False)"
   ]
  },
  {
   "cell_type": "markdown",
   "id": "a70eb6dd-faaf-4d97-a7a5-98bca7c07a93",
   "metadata": {},
   "source": [
    "## Step 4\n",
    " a brief write-up comparing the pros and cons of the modeling techniques you used (no more than a paragraph)."
   ]
  },
  {
   "cell_type": "markdown",
   "id": "d02abe15-7617-4840-8c35-ff8a410863d9",
   "metadata": {},
   "source": [
    "I used three models: linear regression, random forest and xgboost. Linear regression can help us understand the relationship of dependent variable and predictors. But it can only capture linear relationship. Random forest is a method of bagging. It can prevent overfitting and easy to tune parameters while have good prediction result. But it can give more weights for categorical variables with more levels. Lastly, xgboost is a method of boosting. It can capture non-linear patterns in data and is fast because of its scalability and parallelization. But it does not perform so well on sparse and unstructured data, also sensitive to outliers."
   ]
  },
  {
   "cell_type": "code",
   "execution_count": null,
   "id": "369cc6e6-b258-442f-bc9e-26cdb1a38fb4",
   "metadata": {},
   "outputs": [],
   "source": []
  }
 ],
 "metadata": {
  "kernelspec": {
   "display_name": "Python 3 (ipykernel)",
   "language": "python",
   "name": "python3"
  },
  "language_info": {
   "codemirror_mode": {
    "name": "ipython",
    "version": 3
   },
   "file_extension": ".py",
   "mimetype": "text/x-python",
   "name": "python",
   "nbconvert_exporter": "python",
   "pygments_lexer": "ipython3",
   "version": "3.9.7"
  }
 },
 "nbformat": 4,
 "nbformat_minor": 5
}
